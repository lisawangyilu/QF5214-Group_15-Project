{
 "cells": [
  {
   "cell_type": "code",
   "execution_count": 1,
   "id": "045dca15-030d-4125-9327-a97fbeb8a6f1",
   "metadata": {},
   "outputs": [],
   "source": [
    "import mysql.connector\n",
    "import pandas as pd\n",
    "\n",
    "# Database connection configuration\n",
    "config = {\n",
    "    'user': 'use',\n",
    "    'password': 'password',\n",
    "    'host': '47.254.198.45',\n",
    "    'database': 'qf5214',\n",
    "    'port': '3306'\n",
    "}\n",
    "\n",
    "# Connect to the database\n",
    "cnx = mysql.connector.connect(**config)\n",
    "\n",
    "# Create the query\n",
    "query = \"SELECT * FROM ods_stock_inf\"\n",
    "\n",
    "# Use pandas to read the SQL query result into a DataFrame\n",
    "df = pd.read_sql(query, cnx)\n",
    "\n",
    "# Save the DataFrame to a CSV file\n",
    "csv_file_path = '/Users/yuechun/Desktop/QF5214 Data Engineering for Quantitative Finance/ODS/inf_stock_data.csv'\n",
    "df.to_csv(csv_file_path, index=False)\n",
    "\n",
    "# Close the database connection\n",
    "cnx.close()"
   ]
  },
  {
   "cell_type": "code",
   "execution_count": 3,
   "id": "b2f493a5-eb97-4fcb-b246-e9803ca71bbb",
   "metadata": {},
   "outputs": [],
   "source": [
    "file_path_inf = '/Users/yuechun/Desktop/QF5214 Data Engineering for Quantitative Finance/ODS/inf_stock_data.csv'\n",
    "ods_stock_inf = pd.read_csv(file_path_inf)"
   ]
  },
  {
   "cell_type": "code",
   "execution_count": 4,
   "id": "153a3d4e-4adf-4792-b65e-153688719c13",
   "metadata": {},
   "outputs": [
    {
     "data": {
      "text/plain": [
       "<bound method NDFrame.head of 0      跨境支付;银;大盘股;上涨点位贡献;全A等权;银行精选;全A精选;陆股通重仓前100;核心资...\n",
       "1      全A负动量;房地产金股;海通证券金股;券商金股综合;银;大盘股;下跌点位贡献;全A等权;房地...\n",
       "2      英伟达产业链;6G;新经济;自主可控;TMT;信创产业;通信金股;券商金股综合;长城证券金股...\n",
       "3      央企房地产;央企中盘股;非陆股通重仓;国企综合;央企综合;中盘股;银;全A等权;全A(非陆股...\n",
       "4      非基金重仓;新经济;TMT;元宇宙;先进制造;大盘股;下跌点位贡献;三新;双循环;全A等权;...\n",
       "                             ...                        \n",
       "295    非陆股通重仓;民营企业综合;口腔医疗;胶原蛋白;中盘股;宁组合;双创100;医美;茅;全A等...\n",
       "296    央企电子;央企中盘股;非陆股通重仓;央企综合;国企综合;中特估;新经济;自主可控;中盘股;汽...\n",
       "297    非陆股通重仓;全A负动量;民营企业综合;中盘股;TMT;信创产业;跨境支付;元宇宙;下跌点位...\n",
       "298    非基金重仓;民营企业综合;新经济;中资国际化;自主可控;中盘股;TMT;能源出海;TOPco...\n",
       "299    非陆股通重仓;全A负动量;GPU;新经济;自主可控;TMT;信创产业;减持;元宇宙;先进制造...\n",
       "Name: CONCEPT, Length: 300, dtype: object>"
      ]
     },
     "execution_count": 4,
     "metadata": {},
     "output_type": "execute_result"
    }
   ],
   "source": [
    "ods_stock_inf['CONCEPT'].head\n",
    "# Display the first few rows of the 'CONCEPT' column to understand its structure"
   ]
  },
  {
   "cell_type": "code",
   "execution_count": 5,
   "id": "7c0a03aa-fb6f-4aee-8835-c59a836e8a43",
   "metadata": {},
   "outputs": [],
   "source": [
    "ods_stock_inf[['HOT_CONCEPT1', 'HOT_CONCEPT2', 'HOT_CONCEPT3']] = ods_stock_inf['CONCEPT'].str.split(';', expand=True).iloc[:, :3]"
   ]
  },
  {
   "cell_type": "code",
   "execution_count": 6,
   "id": "bb29d3b0-20e9-4d6f-aca7-22b951905aad",
   "metadata": {
    "scrolled": true
   },
   "outputs": [
    {
     "data": {
      "text/plain": [
       "<bound method NDFrame.head of     Unnamed: 0 EXCH_ENG SEC_NAME  TRADE_CODE  \\\n",
       "0    000001.SZ     SZSE     平安银行           1   \n",
       "1    000002.SZ     SZSE      万科A           2   \n",
       "2    000063.SZ     SZSE     中兴通讯          63   \n",
       "3    000069.SZ     SZSE     华侨城A          69   \n",
       "4    000100.SZ     SZSE    TCL科技         100   \n",
       "..         ...      ...      ...         ...   \n",
       "295  688363.SH      SSE     华熙生物      688363   \n",
       "296  688396.SH      SSE      华润微      688396   \n",
       "297  688561.SH      SSE    奇安信-U      688561   \n",
       "298  688599.SH      SSE     天合光能      688599   \n",
       "299  688981.SH      SSE     中芯国际      688981   \n",
       "\n",
       "                                               CONCEPT  \\\n",
       "0    跨境支付;银;大盘股;上涨点位贡献;全A等权;银行精选;全A精选;陆股通重仓前100;核心资...   \n",
       "1    全A负动量;房地产金股;海通证券金股;券商金股综合;银;大盘股;下跌点位贡献;全A等权;房地...   \n",
       "2    英伟达产业链;6G;新经济;自主可控;TMT;信创产业;通信金股;券商金股综合;长城证券金股...   \n",
       "3    央企房地产;央企中盘股;非陆股通重仓;国企综合;央企综合;中盘股;银;全A等权;全A(非陆股...   \n",
       "4    非基金重仓;新经济;TMT;元宇宙;先进制造;大盘股;下跌点位贡献;三新;双循环;全A等权;...   \n",
       "..                                                 ...   \n",
       "295  非陆股通重仓;民营企业综合;口腔医疗;胶原蛋白;中盘股;宁组合;双创100;医美;茅;全A等...   \n",
       "296  央企电子;央企中盘股;非陆股通重仓;央企综合;国企综合;中特估;新经济;自主可控;中盘股;汽...   \n",
       "297  非陆股通重仓;全A负动量;民营企业综合;中盘股;TMT;信创产业;跨境支付;元宇宙;下跌点位...   \n",
       "298  非基金重仓;民营企业综合;新经济;中资国际化;自主可控;中盘股;TMT;能源出海;TOPco...   \n",
       "299  非陆股通重仓;全A负动量;GPU;新经济;自主可控;TMT;信创产业;减持;元宇宙;先进制造...   \n",
       "\n",
       "                                            HOTCONCEPT LATESTCONCEPT  \\\n",
       "0                         跨境支付;银;上涨点位贡献;银行精选;核心资产;基金重仓           中动量   \n",
       "1                         银;房地产精选;核心资产;分拆上市;基金重仓;新型城镇化         全A负动量   \n",
       "2    英伟达产业链;6G;自主可控;信创产业;EDA;核心资产;新基建;5G应用;消费电子产业;半...        全A价格回报   \n",
       "3                                     国企综合;银;业绩爆雷;社保重仓         央企房地产   \n",
       "4    元宇宙;先进制造;双循环;5G应用;消费电子产业;新型显示技术;分拆上市;科技龙头;数字经济...         非基金重仓   \n",
       "..                                                 ...           ...   \n",
       "295                                 宁组合;医美;茅;基金重仓;生物科技        非陆股通重仓   \n",
       "296  国企综合;中特估;自主可控;汽车芯片;信创产业;元宇宙;MCU芯片;先进制造;双循环;半导体...          央企电子   \n",
       "297    跨境支付;信创产业;元宇宙;双循环;5G应用;科技龙头;基金重仓;操作系统;AIPC;网络安全        非陆股通重仓   \n",
       "298  自主可控;能源出海;TOPcon电池;先进制造;碳中和;电源设备精选;分拆上市;出海;特高压...         非基金重仓   \n",
       "299  GPU;自主可控;信创产业;元宇宙;先进制造;双循环;茅;半导体精选;中芯国际产业链;晶圆产...        非陆股通重仓   \n",
       "\n",
       "                                                 CHAIN       COMP_NAME  \\\n",
       "0                                                  NaN      平安银行股份有限公司   \n",
       "1                                              PC 长租公寓      万科企业股份有限公司   \n",
       "2    PC 家庭娱乐,PC 在线办公,PC NCP专利,PC 智能网联汽车,PC 物联网,PC 5...      中兴通讯股份有限公司   \n",
       "3                                                  NaN     深圳华侨城股份有限公司   \n",
       "4                        PC 家庭娱乐,PC 智能手表,PC 消费金融,PC 家电   TCL科技集团股份有限公司   \n",
       "..                                                 ...             ...   \n",
       "295                                                NaN    华熙生物科技股份有限公司   \n",
       "296                                                NaN       华润微电子有限公司   \n",
       "297                                                NaN   奇安信科技集团股份有限公司   \n",
       "298                                              PC 光伏      天合光能股份有限公司   \n",
       "299                                        半导体-集成电路产业链  中芯国际集成电路制造有限公司   \n",
       "\n",
       "                                         COMP_NAME_ENG PROVINCE NATURE1  \\\n",
       "0                               Ping An Bank Co., Ltd.      广东省    公众企业   \n",
       "1                                 China Vanke Co.,Ltd.      广东省    公众企业   \n",
       "2                                      Zte Corporation      广东省    公众企业   \n",
       "3              Shenzhen Overseas Chinese Town Co., Ltd      广东省  中央国有企业   \n",
       "4                     Tcl Technology Group Corporation      广东省    公众企业   \n",
       "..                                                 ...      ...     ...   \n",
       "295         Bloomage Biotechnology Corporation Limited      山东省    民营企业   \n",
       "296           China Resources Microelectronics Limited      江苏省  中央国有企业   \n",
       "297                    Qi An Xin Technology Group Inc.       北京    民营企业   \n",
       "298                              Trina Solar Co., Ltd.      江苏省    民营企业   \n",
       "299  Semiconductor Manufacturing International Corp...       上海    公众企业   \n",
       "\n",
       "    INDUSTRY_CSRC2023 INDUSTRY_CSRCCODE2023 INDUSTRY_GICS  INDUSTRY_GICSCODE  \\\n",
       "0                 金融业                     J            金融                 40   \n",
       "1                房地产业                     K           房地产                 60   \n",
       "2                 制造业                     C          信息技术                 45   \n",
       "3                房地产业                     K           房地产                 60   \n",
       "4                 制造业                     C          信息技术                 45   \n",
       "..                ...                   ...           ...                ...   \n",
       "295               制造业                     C          医疗保健                 35   \n",
       "296               制造业                     C          信息技术                 45   \n",
       "297   信息传输、软件和信息技术服务业                     I          信息技术                 45   \n",
       "298               制造业                     C          信息技术                 45   \n",
       "299               制造业                     C          信息技术                 45   \n",
       "\n",
       "    HOT_CONCEPT1 HOT_CONCEPT2 HOT_CONCEPT3  \n",
       "0           跨境支付            银          大盘股  \n",
       "1          全A负动量        房地产金股       海通证券金股  \n",
       "2         英伟达产业链           6G          新经济  \n",
       "3          央企房地产        央企中盘股       非陆股通重仓  \n",
       "4          非基金重仓          新经济          TMT  \n",
       "..           ...          ...          ...  \n",
       "295       非陆股通重仓       民营企业综合         口腔医疗  \n",
       "296         央企电子        央企中盘股       非陆股通重仓  \n",
       "297       非陆股通重仓        全A负动量       民营企业综合  \n",
       "298        非基金重仓       民营企业综合          新经济  \n",
       "299       非陆股通重仓        全A负动量          GPU  \n",
       "\n",
       "[300 rows x 19 columns]>"
      ]
     },
     "execution_count": 6,
     "metadata": {},
     "output_type": "execute_result"
    }
   ],
   "source": [
    "ods_stock_inf.head"
   ]
  },
  {
   "cell_type": "code",
   "execution_count": 7,
   "id": "13120dd2-36bf-44c6-9912-c2a20ab88227",
   "metadata": {},
   "outputs": [
    {
     "data": {
      "text/plain": [
       "['Unnamed: 0',\n",
       " 'EXCH_ENG',\n",
       " 'SEC_NAME',\n",
       " 'TRADE_CODE',\n",
       " 'CONCEPT',\n",
       " 'HOTCONCEPT',\n",
       " 'LATESTCONCEPT',\n",
       " 'CHAIN',\n",
       " 'COMP_NAME',\n",
       " 'COMP_NAME_ENG',\n",
       " 'PROVINCE',\n",
       " 'NATURE1',\n",
       " 'INDUSTRY_CSRC2023',\n",
       " 'INDUSTRY_CSRCCODE2023',\n",
       " 'INDUSTRY_GICS',\n",
       " 'INDUSTRY_GICSCODE',\n",
       " 'HOT_CONCEPT1',\n",
       " 'HOT_CONCEPT2',\n",
       " 'HOT_CONCEPT3']"
      ]
     },
     "execution_count": 7,
     "metadata": {},
     "output_type": "execute_result"
    }
   ],
   "source": [
    "ods_stock_inf.columns.tolist()"
   ]
  },
  {
   "cell_type": "code",
   "execution_count": 8,
   "id": "344f3a02-0490-48a4-ac77-56768d35f8fd",
   "metadata": {},
   "outputs": [],
   "source": [
    "ods_stock_inf = ods_stock_inf.rename(columns={'Unnamed: 0': 'stock_code'})"
   ]
  },
  {
   "cell_type": "code",
   "execution_count": 9,
   "id": "bc00551e-4ab1-4df8-8548-c7115d1dc275",
   "metadata": {},
   "outputs": [],
   "source": [
    "file_path_odsinf = '/Users/yuechun/Desktop/QF5214 Data Engineering for Quantitative Finance/ODS/ods_stock_inf.csv'\n",
    "ods_stock_inf.to_csv(file_path_odsinf, index=False)"
   ]
  },
  {
   "cell_type": "code",
   "execution_count": null,
   "id": "b9631378",
   "metadata": {},
   "outputs": [],
   "source": [
    "from sqlalchemy import create_engine\n",
    "\n",
    "# Database connection configuration\n",
    "username = 'user'\n",
    "password = 'password'\n",
    "host = '47.254.198.45'  # Could be an IP address or a domain name\n",
    "database_name = 'qf5214'\n",
    "port = 3306  # default MySQL port\n",
    "\n",
    "# Create a database engine using SQLAlchemy\n",
    "engine = create_engine(f'mysql+pymysql://{username}:{password}@{host}:{port}/{database_name}')\n",
    "\n",
    "# Insert the DataFrame directly into the MySQL table\n",
    "ods_stock_inf.to_sql(name=ods_stock_inf, con=engine, if_exists='append', index=False)\n",
    "\n",
    "print(\"CSV data has been successfully imported into the MySQL database\")\n",
    "\n",
    "# Close the engine connection\n",
    "engine.dispose()"
   ]
  },
  {
   "cell_type": "code",
   "execution_count": null,
   "id": "288457af",
   "metadata": {},
   "outputs": [],
   "source": [
    "query = \"SELECT * FROM market_price\"\n",
    "\n",
    "# Use pandas to read the SQL query result into a DataFrame\n",
    "df = pd.read_sql(query, cnx)\n",
    "\n",
    "# Save the DataFrame to a CSV file\n",
    "csv_file_path = '/Users/yuechun/Desktop/QF5214 Data Engineering for Quantitative Finance/ODS/market_price.csv'\n",
    "df.to_csv(csv_file_path, index=False)\n",
    "\n",
    "# Close the database connection\n",
    "cnx.close()"
   ]
  },
  {
   "cell_type": "code",
   "execution_count": 10,
   "id": "05098358-7fa4-452c-ae20-9d87b3ccec6b",
   "metadata": {},
   "outputs": [],
   "source": [
    "file_path_prc = '/Users/yuechun/Desktop/QF5214 Data Engineering for Quantitative Finance/ODS/market_price.csv'\n",
    "ods_market_price = pd.read_csv(file_path_prc)"
   ]
  },
  {
   "cell_type": "code",
   "execution_count": 11,
   "id": "d0b7da16-f2ac-4c24-82fb-c3c662a8d753",
   "metadata": {},
   "outputs": [
    {
     "data": {
      "text/plain": [
       "<bound method NDFrame.head of        Unnamed: 0   OPEN   HIGH    LOW       VOLUME           AMT   PCT_CHG  \\\n",
       "0      2023-12-25   9.18   9.20   9.14   41397088.0  3.796382e+08 -0.108696   \n",
       "1      2023-12-26   9.19   9.20   9.07   54189633.0  4.937466e+08 -0.979325   \n",
       "2      2023-12-27   9.10   9.13   9.02   64153435.0  5.820367e+08  0.219780   \n",
       "3      2023-12-28   9.11   9.47   9.08  166159184.0  1.550257e+09  3.618421   \n",
       "4      2023-12-29   9.42   9.48   9.35   85385279.0  8.031967e+08 -0.634921   \n",
       "...           ...    ...    ...    ...          ...           ...       ...   \n",
       "18295  2024-03-21  47.54  48.10  47.10   19507622.0  9.295905e+08  0.021035   \n",
       "18296  2024-03-22  47.30  47.51  45.58   29286513.0  1.357453e+09 -4.100946   \n",
       "18297  2024-03-25  45.59  45.66  44.56   21448161.0  9.655624e+08 -2.280702   \n",
       "18298  2024-03-26  44.60  45.05  44.20   15427667.0  6.872348e+08 -0.044883   \n",
       "18299  2024-03-27  44.82  44.82  43.38   15933041.0  7.004951e+08 -2.537045   \n",
       "\n",
       "       CLOSE2  MFD_BUYAMT_D  MFD_SELLAMT_D  MFD_NETBUYAMT stock_code  \n",
       "0        9.19    51505523.0     75215893.0    -23710370.0  000001.SZ  \n",
       "1        9.10    54858109.0     97131657.0    -42273548.0  000001.SZ  \n",
       "2        9.12   100391759.0     86192913.0     14198846.0  000001.SZ  \n",
       "3        9.45   542082803.0    312429755.0    229653048.0  000001.SZ  \n",
       "4        9.39   120187915.0    256041118.0   -135853203.0  000001.SZ  \n",
       "...       ...           ...            ...            ...        ...  \n",
       "18295   47.55    70667541.0     83748166.0    -13080625.0  688981.SH  \n",
       "18296   45.60    82742080.0    173408035.0    -90665956.0  688981.SH  \n",
       "18297   44.56    58107390.0     70339441.0    -12232051.0  688981.SH  \n",
       "18298   44.54    38233663.0     71643042.0    -33409379.0  688981.SH  \n",
       "18299   43.41    40572837.0     68775486.0    -28202649.0  688981.SH  \n",
       "\n",
       "[18300 rows x 12 columns]>"
      ]
     },
     "execution_count": 11,
     "metadata": {},
     "output_type": "execute_result"
    }
   ],
   "source": [
    "ods_market_price.head"
   ]
  },
  {
   "cell_type": "code",
   "execution_count": 12,
   "id": "33c0156a-8c52-427a-92bd-76aac3b784f3",
   "metadata": {},
   "outputs": [
    {
     "data": {
      "text/plain": [
       "['Unnamed: 0',\n",
       " 'OPEN',\n",
       " 'HIGH',\n",
       " 'LOW',\n",
       " 'VOLUME',\n",
       " 'AMT',\n",
       " 'PCT_CHG',\n",
       " 'CLOSE2',\n",
       " 'MFD_BUYAMT_D',\n",
       " 'MFD_SELLAMT_D',\n",
       " 'MFD_NETBUYAMT',\n",
       " 'stock_code']"
      ]
     },
     "execution_count": 12,
     "metadata": {},
     "output_type": "execute_result"
    }
   ],
   "source": [
    "ods_market_price.columns.tolist()"
   ]
  },
  {
   "cell_type": "code",
   "execution_count": 13,
   "id": "733749c3-38b1-4edd-a9a0-8c83db5ba10e",
   "metadata": {},
   "outputs": [],
   "source": [
    "ods_market_price = ods_market_price.rename(columns={'Unnamed: 0': 'date'})"
   ]
  },
  {
   "cell_type": "code",
   "execution_count": 14,
   "id": "00fe7493-c697-4a7f-aee8-550e388367c1",
   "metadata": {},
   "outputs": [],
   "source": [
    "file_path_odsprc = '/Users/yuechun/Desktop/QF5214 Data Engineering for Quantitative Finance/ODS/ods_market_price.csv'\n",
    "ods_market_price.to_csv(file_path_odsprc, index=False)"
   ]
  },
  {
   "cell_type": "code",
   "execution_count": null,
   "id": "7b8d422b",
   "metadata": {},
   "outputs": [],
   "source": [
    "# Insert the DataFrame directly into the MySQL table\n",
    "ods_market_price.to_sql(name=ods_market_price, con=engine, if_exists='append', index=False)\n",
    "\n",
    "print(\"CSV data has been successfully imported into the MySQL database\")\n",
    "\n",
    "# Close the engine connection\n",
    "engine.dispose()"
   ]
  },
  {
   "cell_type": "code",
   "execution_count": null,
   "id": "ba96e530",
   "metadata": {},
   "outputs": [],
   "source": [
    "query = \"SELECT * FROM holder\"\n",
    "\n",
    "# Use pandas to read the SQL query result into a DataFrame\n",
    "df = pd.read_sql(query, cnx)\n",
    "\n",
    "# Save the DataFrame to a CSV file\n",
    "csv_file_path = '/Users/yuechun/Desktop/QF5214 Data Engineering for Quantitative Finance/ODS/holder.csv'\n",
    "df.to_csv(csv_file_path, index=False)\n",
    "\n",
    "# Close the database connection\n",
    "cnx.close()"
   ]
  },
  {
   "cell_type": "code",
   "execution_count": 15,
   "id": "4795795e-a1d6-469a-ae6f-ccee968abfa1",
   "metadata": {},
   "outputs": [],
   "source": [
    "file_path_holder = '/Users/yuechun/Desktop/QF5214 Data Engineering for Quantitative Finance/ODS/holder.csv'\n",
    "ods_holder_inf = pd.read_csv(file_path_holder)"
   ]
  },
  {
   "cell_type": "code",
   "execution_count": 16,
   "id": "44209da1-31dd-40a7-982f-e5acc3f9703b",
   "metadata": {},
   "outputs": [
    {
     "data": {
      "text/plain": [
       "<bound method NDFrame.head of        Unnamed: 0  HOLDER_TOP10LIQQUANTITY  HOLDER_TLTTOP10LIQPCT  \\\n",
       "0      2023-12-25             1.300153e+10              66.999042   \n",
       "1      2023-12-26             1.300153e+10              66.999042   \n",
       "2      2023-12-27             1.300153e+10              66.999042   \n",
       "3      2023-12-28             1.300153e+10              66.999042   \n",
       "4      2023-12-29             1.300153e+10              66.999042   \n",
       "...           ...                      ...                    ...   \n",
       "17136  2024-03-21             1.219021e+10              69.004703   \n",
       "17137  2024-03-22             1.219021e+10              69.004703   \n",
       "17138  2024-03-25             1.219021e+10              69.004703   \n",
       "17139  2024-03-26             1.219021e+10              69.004703   \n",
       "17140  2024-03-27             1.219021e+10              69.004703   \n",
       "\n",
       "       HOLDER_LIQQUANTITY  HOLDER_LIQPCT  HOLDER_NUM2  HOLDER_TOTALBYINST  \\\n",
       "0            9.618540e+09      49.565932     530229.0                 NaN   \n",
       "1            9.618540e+09      49.565932     530229.0                 NaN   \n",
       "2            9.618540e+09      49.565932     530229.0                 NaN   \n",
       "3            9.618540e+09      49.565932     530229.0                 NaN   \n",
       "4            9.618540e+09      49.565932     530229.0                 NaN   \n",
       "...                   ...            ...          ...                 ...   \n",
       "17136        5.333220e+09      30.189566     230104.0                 NaN   \n",
       "17137        5.333220e+09      30.189566     230104.0                 NaN   \n",
       "17138        5.333220e+09      30.189566     230104.0                 NaN   \n",
       "17139        5.333220e+09      30.189566     230104.0                 NaN   \n",
       "17140        5.333220e+09      30.189566     230104.0                 NaN   \n",
       "\n",
       "       HOLDER_TOTALBYFUND  HOLDER_TOTALBYBYSEC stock_code  \n",
       "0                     NaN                  NaN  000001.SZ  \n",
       "1                     NaN                  NaN  000001.SZ  \n",
       "2                     NaN                  NaN  000001.SZ  \n",
       "3                     NaN                  NaN  000001.SZ  \n",
       "4                     NaN                  NaN  000001.SZ  \n",
       "...                   ...                  ...        ...  \n",
       "17136                 NaN                  NaN  603993.SH  \n",
       "17137                 NaN                  NaN  603993.SH  \n",
       "17138                 NaN                  NaN  603993.SH  \n",
       "17139                 NaN                  NaN  603993.SH  \n",
       "17140                 NaN                  NaN  603993.SH  \n",
       "\n",
       "[17141 rows x 10 columns]>"
      ]
     },
     "execution_count": 16,
     "metadata": {},
     "output_type": "execute_result"
    }
   ],
   "source": [
    "ods_holder_inf.head"
   ]
  },
  {
   "cell_type": "code",
   "execution_count": 17,
   "id": "df3d5dc5-c24b-40ed-9252-a47d5de6ff69",
   "metadata": {},
   "outputs": [
    {
     "data": {
      "text/plain": [
       "['Unnamed: 0',\n",
       " 'HOLDER_TOP10LIQQUANTITY',\n",
       " 'HOLDER_TLTTOP10LIQPCT',\n",
       " 'HOLDER_LIQQUANTITY',\n",
       " 'HOLDER_LIQPCT',\n",
       " 'HOLDER_NUM2',\n",
       " 'HOLDER_TOTALBYINST',\n",
       " 'HOLDER_TOTALBYFUND',\n",
       " 'HOLDER_TOTALBYBYSEC',\n",
       " 'stock_code']"
      ]
     },
     "execution_count": 17,
     "metadata": {},
     "output_type": "execute_result"
    }
   ],
   "source": [
    "ods_holder_inf.columns.tolist()"
   ]
  },
  {
   "cell_type": "code",
   "execution_count": 18,
   "id": "effc50b9-56a3-409c-a5d6-5ff221643bc0",
   "metadata": {},
   "outputs": [],
   "source": [
    "ods_holder_inf = ods_holder_inf.rename(columns={'Unnamed: 0': 'date'})"
   ]
  },
  {
   "cell_type": "code",
   "execution_count": 19,
   "id": "ada6a0a8-ebcd-4852-977d-558bd37f056b",
   "metadata": {},
   "outputs": [],
   "source": [
    "ods_holder_inf = ods_holder_inf.drop(columns=['HOLDER_TOTALBYINST', 'HOLDER_TOTALBYFUND','HOLDER_TOTALBYBYSEC'])"
   ]
  },
  {
   "cell_type": "code",
   "execution_count": 20,
   "id": "82548c14-e61f-4493-ab4b-8fc0bbd5a29b",
   "metadata": {},
   "outputs": [],
   "source": [
    "file_path_odsholder = '/Users/yuechun/Desktop/QF5214 Data Engineering for Quantitative Finance/ODS/ods_holder_inf.csv'\n",
    "ods_holder_inf.to_csv(file_path_odsholder, index=False)"
   ]
  },
  {
   "cell_type": "code",
   "execution_count": null,
   "id": "188a69ed",
   "metadata": {},
   "outputs": [],
   "source": [
    "# Insert the DataFrame directly into the MySQL table\n",
    "ods_holder_inf.to_sql(name=ods_holder_inf, con=engine, if_exists='append', index=False)\n",
    "\n",
    "print(\"CSV data has been successfully imported into the MySQL database\")\n",
    "\n",
    "# Close the engine connection\n",
    "engine.dispose()"
   ]
  },
  {
   "cell_type": "code",
   "execution_count": 21,
   "id": "f1dbd983-230b-4313-a2e3-b647439e6830",
   "metadata": {},
   "outputs": [
    {
     "data": {
      "text/plain": [
       "<bound method NDFrame.head of              date   OPEN   HIGH    LOW       VOLUME           AMT   PCT_CHG  \\\n",
       "0      2023-12-25   9.18   9.20   9.14   41397088.0  3.796382e+08 -0.108696   \n",
       "1      2023-12-25  10.34  10.38  10.28   27320474.0  2.817907e+08 -0.770713   \n",
       "2      2023-12-25  25.10  25.66  25.10   44630398.0  1.133568e+09  0.595948   \n",
       "3      2023-12-25   3.04   3.06   3.00   33240619.0  1.008282e+08  0.000000   \n",
       "4      2023-12-25   3.92   3.97   3.91  131678047.0  5.201335e+08  1.534527   \n",
       "...           ...    ...    ...    ...          ...           ...       ...   \n",
       "18295  2024-03-27  57.25  57.90  56.10    1146003.0  6.542314e+07 -2.264808   \n",
       "18296  2024-03-27  40.77  41.27  39.50    6491736.0  2.623108e+08 -0.302801   \n",
       "18297  2024-03-27  32.47  32.67  30.66    4373358.0  1.370691e+08 -6.037389   \n",
       "18298  2024-03-27  24.47  24.50  23.45   10656501.0  2.555645e+08 -4.089980   \n",
       "18299  2024-03-27  44.82  44.82  43.38   15933041.0  7.004951e+08 -2.537045   \n",
       "\n",
       "       CLOSE2  MFD_BUYAMT_D  MFD_SELLAMT_D  MFD_NETBUYAMT stock_code  \\\n",
       "0        9.19    51505523.0     75215893.0    -23710370.0  000001.SZ   \n",
       "1       10.30    12014329.0     45399117.0    -33384788.0  000002.SZ   \n",
       "2       25.32   199784819.0    180348576.0     19436243.0  000063.SZ   \n",
       "3        3.05     7328866.0      8043176.0      -714310.0  000069.SZ   \n",
       "4        3.97    83527513.0     91697388.0     -8169875.0  000100.SZ   \n",
       "...       ...           ...            ...            ...        ...   \n",
       "18295   56.10     3059715.0      3914437.0      -854722.0  688363.SH   \n",
       "18296   39.51    10382165.0      4789347.0      5592818.0  688396.SH   \n",
       "18297   30.66           0.0      5471150.0     -5471150.0  688561.SH   \n",
       "18298   23.45     8811258.0     14363948.0     -5552690.0  688599.SH   \n",
       "18299   43.41    40572837.0     68775486.0    -28202649.0  688981.SH   \n",
       "\n",
       "       HOLDER_TOP10LIQQUANTITY  HOLDER_TLTTOP10LIQPCT  HOLDER_LIQQUANTITY  \\\n",
       "0                 1.300153e+10              66.999042        9.618540e+09   \n",
       "1                 4.754923e+09              48.935741        3.242811e+09   \n",
       "2                 1.345092e+09              33.401681        9.589404e+08   \n",
       "3                 4.000667e+09              56.695136        2.717533e+09   \n",
       "4                 4.199649e+09              23.204349        1.062514e+09   \n",
       "...                        ...                    ...                 ...   \n",
       "18295                      NaN                    NaN                 NaN   \n",
       "18296                      NaN                    NaN                 NaN   \n",
       "18297                      NaN                    NaN                 NaN   \n",
       "18298                      NaN                    NaN                 NaN   \n",
       "18299                      NaN                    NaN                 NaN   \n",
       "\n",
       "       HOLDER_LIQPCT  HOLDER_NUM2  \n",
       "0          49.565932     530229.0  \n",
       "1          33.373694     556846.0  \n",
       "2          23.812668     410780.0  \n",
       "3          38.511303     113631.0  \n",
       "4           5.870716     622787.0  \n",
       "...              ...          ...  \n",
       "18295            NaN          NaN  \n",
       "18296            NaN          NaN  \n",
       "18297            NaN          NaN  \n",
       "18298            NaN          NaN  \n",
       "18299            NaN          NaN  \n",
       "\n",
       "[18300 rows x 17 columns]>"
      ]
     },
     "execution_count": 21,
     "metadata": {},
     "output_type": "execute_result"
    }
   ],
   "source": [
    "dwd_market_price_di = pd.merge(ods_market_price, ods_holder_inf, on=['date', 'stock_code'], how='outer')\n",
    "dwd_market_price_di.head"
   ]
  },
  {
   "cell_type": "code",
   "execution_count": 22,
   "id": "c14eb5cb-e487-4098-b700-076166858636",
   "metadata": {},
   "outputs": [],
   "source": [
    "dwd_market_price_di = pd.merge(dwd_market_price_di, ods_stock_inf, on='stock_code', how='left')"
   ]
  },
  {
   "cell_type": "code",
   "execution_count": 23,
   "id": "34b71f2c-554b-41b9-98dd-1e05933796b9",
   "metadata": {},
   "outputs": [
    {
     "data": {
      "text/plain": [
       "<bound method NDFrame.head of              date   OPEN   HIGH    LOW       VOLUME           AMT   PCT_CHG  \\\n",
       "0      2023-12-25   9.18   9.20   9.14   41397088.0  3.796382e+08 -0.108696   \n",
       "1      2023-12-25  10.34  10.38  10.28   27320474.0  2.817907e+08 -0.770713   \n",
       "2      2023-12-25  25.10  25.66  25.10   44630398.0  1.133568e+09  0.595948   \n",
       "3      2023-12-25   3.04   3.06   3.00   33240619.0  1.008282e+08  0.000000   \n",
       "4      2023-12-25   3.92   3.97   3.91  131678047.0  5.201335e+08  1.534527   \n",
       "...           ...    ...    ...    ...          ...           ...       ...   \n",
       "18295  2024-03-27  57.25  57.90  56.10    1146003.0  6.542314e+07 -2.264808   \n",
       "18296  2024-03-27  40.77  41.27  39.50    6491736.0  2.623108e+08 -0.302801   \n",
       "18297  2024-03-27  32.47  32.67  30.66    4373358.0  1.370691e+08 -6.037389   \n",
       "18298  2024-03-27  24.47  24.50  23.45   10656501.0  2.555645e+08 -4.089980   \n",
       "18299  2024-03-27  44.82  44.82  43.38   15933041.0  7.004951e+08 -2.537045   \n",
       "\n",
       "       CLOSE2  MFD_BUYAMT_D  MFD_SELLAMT_D  ...  \\\n",
       "0        9.19    51505523.0     75215893.0  ...   \n",
       "1       10.30    12014329.0     45399117.0  ...   \n",
       "2       25.32   199784819.0    180348576.0  ...   \n",
       "3        3.05     7328866.0      8043176.0  ...   \n",
       "4        3.97    83527513.0     91697388.0  ...   \n",
       "...       ...           ...            ...  ...   \n",
       "18295   56.10     3059715.0      3914437.0  ...   \n",
       "18296   39.51    10382165.0      4789347.0  ...   \n",
       "18297   30.66           0.0      5471150.0  ...   \n",
       "18298   23.45     8811258.0     14363948.0  ...   \n",
       "18299   43.41    40572837.0     68775486.0  ...   \n",
       "\n",
       "                                           COMP_NAME_ENG PROVINCE  NATURE1  \\\n",
       "0                                 Ping An Bank Co., Ltd.      广东省     公众企业   \n",
       "1                                   China Vanke Co.,Ltd.      广东省     公众企业   \n",
       "2                                        Zte Corporation      广东省     公众企业   \n",
       "3                Shenzhen Overseas Chinese Town Co., Ltd      广东省   中央国有企业   \n",
       "4                       Tcl Technology Group Corporation      广东省     公众企业   \n",
       "...                                                  ...      ...      ...   \n",
       "18295         Bloomage Biotechnology Corporation Limited      山东省     民营企业   \n",
       "18296           China Resources Microelectronics Limited      江苏省   中央国有企业   \n",
       "18297                    Qi An Xin Technology Group Inc.       北京     民营企业   \n",
       "18298                              Trina Solar Co., Ltd.      江苏省     民营企业   \n",
       "18299  Semiconductor Manufacturing International Corp...       上海     公众企业   \n",
       "\n",
       "       INDUSTRY_CSRC2023  INDUSTRY_CSRCCODE2023  INDUSTRY_GICS  \\\n",
       "0                    金融业                      J             金融   \n",
       "1                   房地产业                      K            房地产   \n",
       "2                    制造业                      C           信息技术   \n",
       "3                   房地产业                      K            房地产   \n",
       "4                    制造业                      C           信息技术   \n",
       "...                  ...                    ...            ...   \n",
       "18295                制造业                      C           医疗保健   \n",
       "18296                制造业                      C           信息技术   \n",
       "18297    信息传输、软件和信息技术服务业                      I           信息技术   \n",
       "18298                制造业                      C           信息技术   \n",
       "18299                制造业                      C           信息技术   \n",
       "\n",
       "       INDUSTRY_GICSCODE HOT_CONCEPT1 HOT_CONCEPT2  HOT_CONCEPT3  \n",
       "0                     40         跨境支付            银           大盘股  \n",
       "1                     60        全A负动量        房地产金股        海通证券金股  \n",
       "2                     45       英伟达产业链           6G           新经济  \n",
       "3                     60        央企房地产        央企中盘股        非陆股通重仓  \n",
       "4                     45        非基金重仓          新经济           TMT  \n",
       "...                  ...          ...          ...           ...  \n",
       "18295                 35       非陆股通重仓       民营企业综合          口腔医疗  \n",
       "18296                 45         央企电子        央企中盘股        非陆股通重仓  \n",
       "18297                 45       非陆股通重仓        全A负动量        民营企业综合  \n",
       "18298                 45        非基金重仓       民营企业综合           新经济  \n",
       "18299                 45       非陆股通重仓        全A负动量           GPU  \n",
       "\n",
       "[18300 rows x 35 columns]>"
      ]
     },
     "execution_count": 23,
     "metadata": {},
     "output_type": "execute_result"
    }
   ],
   "source": [
    "dwd_market_price_di.head"
   ]
  },
  {
   "cell_type": "code",
   "execution_count": 16,
   "id": "7035a47e-bb3b-4874-a453-895051aad287",
   "metadata": {},
   "outputs": [],
   "source": [
    "from datetime import datetime"
   ]
  },
  {
   "cell_type": "code",
   "execution_count": 17,
   "id": "639edecc-5c8b-4d16-9926-e007f0c8124c",
   "metadata": {},
   "outputs": [
    {
     "ename": "NameError",
     "evalue": "name 'dwd_market_price_di' is not defined",
     "output_type": "error",
     "traceback": [
      "\u001b[0;31m---------------------------------------------------------------------------\u001b[0m",
      "\u001b[0;31mNameError\u001b[0m                                 Traceback (most recent call last)",
      "Cell \u001b[0;32mIn[17], line 4\u001b[0m\n\u001b[1;32m      1\u001b[0m current_time \u001b[38;5;241m=\u001b[39m datetime\u001b[38;5;241m.\u001b[39mnow()\n\u001b[1;32m      3\u001b[0m \u001b[38;5;66;03m# Add the 'input_date_time' column with the current system time for all rows\u001b[39;00m\n\u001b[0;32m----> 4\u001b[0m dwd_market_price_di[\u001b[38;5;124m'\u001b[39m\u001b[38;5;124minput_date_time\u001b[39m\u001b[38;5;124m'\u001b[39m] \u001b[38;5;241m=\u001b[39m current_time\n\u001b[1;32m      6\u001b[0m dwd_market_price_di\u001b[38;5;241m.\u001b[39mhead()\n",
      "\u001b[0;31mNameError\u001b[0m: name 'dwd_market_price_di' is not defined"
     ]
    }
   ],
   "source": [
    "current_time = datetime.now()\n",
    "\n",
    "# Add the 'input_date_time' column with the current system time for all rows\n",
    "dwd_market_price_di['input_date_time'] = current_time\n",
    "\n",
    "dwd_market_price_di.head()"
   ]
  },
  {
   "cell_type": "code",
   "execution_count": 26,
   "id": "f599ebae-2e0e-45f6-8958-c816cae709c4",
   "metadata": {},
   "outputs": [],
   "source": [
    "file_path_dwd_market_price_di = '/Users/yuechun/Desktop/QF5214 Data Engineering for Quantitative Finance/DWD/dwd_market_price_di.csv'\n",
    "dwd_market_price_di.to_csv(file_path_dwd_market_price_di, index=False, encoding='utf-8-sig')"
   ]
  },
  {
   "cell_type": "code",
   "execution_count": 37,
   "id": "e141b243-ef35-422e-b8c0-6a290f05b2c3",
   "metadata": {
    "scrolled": true
   },
   "outputs": [
    {
     "data": {
      "text/plain": [
       "<bound method NDFrame.head of            date INDUSTRY_GICS  N_PCT_CHG_10_7  N_PCT_CHG_7_5  N_PCT_CHG_5_3  \\\n",
       "0    2023-12-25          信息技术               1              0              1   \n",
       "1    2023-12-25          公用事业               0              0              0   \n",
       "2    2023-12-25          医疗保健               1              0              1   \n",
       "3    2023-12-25          可选消费               0              0              2   \n",
       "4    2023-12-25            工业               0              0              3   \n",
       "..          ...           ...             ...            ...            ...   \n",
       "666  2024-03-27          日常消费               0              0              0   \n",
       "667  2024-03-27            材料               0              1              0   \n",
       "668  2024-03-27          电信服务               0              0              0   \n",
       "669  2024-03-27            能源               0              0              1   \n",
       "670  2024-03-27            金融               0              0              0   \n",
       "\n",
       "     N_PCT_CHG_3_0  N_PCT_CHG_0_3  N_PCT_CHG_3_5  N_PCT_CHG_5_7  \\\n",
       "0               42             14              3              0   \n",
       "1                8              1              0              0   \n",
       "2               17              7              1              0   \n",
       "3               11              8              0              0   \n",
       "4               30             14              2              0   \n",
       "..             ...            ...            ...            ...   \n",
       "666              3             15              0              0   \n",
       "667             10             15              7              2   \n",
       "668              2              1              1              0   \n",
       "669              3              6              0              0   \n",
       "670             20             26              2              1   \n",
       "\n",
       "     N_PCT_CHG_7_10  MEAN_PCT_CHG_10_7  MEAN_PCT_CHG_7_5  MEAN_PCT_CHG_5_3  \\\n",
       "0                 2           9.963548               NaN          3.146853   \n",
       "1                 0                NaN               NaN               NaN   \n",
       "2                 0           7.840099               NaN          3.615819   \n",
       "3                 0                NaN               NaN          3.963744   \n",
       "4                 0                NaN               NaN          3.703685   \n",
       "..              ...                ...               ...               ...   \n",
       "666               1                NaN               NaN               NaN   \n",
       "667               0                NaN          5.730659               NaN   \n",
       "668               0                NaN               NaN               NaN   \n",
       "669               0                NaN               NaN          4.027261   \n",
       "670               0                NaN               NaN               NaN   \n",
       "\n",
       "     MEAN_PCT_CHG_3_0  MEAN_PCT_CHG_0_3  MEAN_PCT_CHG_3_5  MEAN_PCT_CHG_5_7  \\\n",
       "0            1.028969         -0.806327         -3.382486               NaN   \n",
       "1            1.301725         -0.230415               NaN               NaN   \n",
       "2            0.873442         -0.413474         -3.061224               NaN   \n",
       "3            1.150353         -0.616111               NaN               NaN   \n",
       "4            0.929253         -0.619955         -3.615601               NaN   \n",
       "..                ...               ...               ...               ...   \n",
       "666          0.642438         -1.433855               NaN               NaN   \n",
       "667          0.991829         -1.197983         -3.519915         -5.686227   \n",
       "668          1.221192         -0.865801         -4.965431               NaN   \n",
       "669          1.120248         -0.899029               NaN               NaN   \n",
       "670          0.714632         -1.482295         -3.679128         -5.050725   \n",
       "\n",
       "     MEAN_PCT_CHG_7_10  \n",
       "0            -7.609329  \n",
       "1                  NaN  \n",
       "2                  NaN  \n",
       "3                  NaN  \n",
       "4                  NaN  \n",
       "..                 ...  \n",
       "666          -9.450473  \n",
       "667                NaN  \n",
       "668                NaN  \n",
       "669                NaN  \n",
       "670                NaN  \n",
       "\n",
       "[671 rows x 18 columns]>"
      ]
     },
     "execution_count": 37,
     "metadata": {},
     "output_type": "execute_result"
    }
   ],
   "source": [
    "grouped = dwd_market_price_di.groupby(['date', 'INDUSTRY_GICS'])\n",
    "dws_stock_price_performance_inf_di = grouped['PCT_CHG'].agg(\n",
    "    N_PCT_CHG_10_7 = lambda x : ((x < 10) & (x > 7)).sum(),\n",
    "    N_PCT_CHG_7_5 = lambda x : ((x < 7) & (x > 5)).sum(),\n",
    "    N_PCT_CHG_5_3 = lambda x : ((x < 5) & (x > 3)).sum(),\n",
    "    N_PCT_CHG_3_0 = lambda x : ((x < 3) & (x > 0)).sum(),\n",
    "    N_PCT_CHG_0_3 = lambda x : ((x < 0) & (x > -3)).sum(),\n",
    "    N_PCT_CHG_3_5 = lambda x : ((x < -3) & (x > -5)).sum(),\n",
    "    N_PCT_CHG_5_7 = lambda x : ((x < -5) & (x > -7)).sum(),\n",
    "    N_PCT_CHG_7_10 = lambda x : ((x < -7) & (x > -10)).sum(),\n",
    "    MEAN_PCT_CHG_10_7 = lambda x : x[(x < 10) & (x > 7)].mean(),\n",
    "    MEAN_PCT_CHG_7_5 = lambda x : x[(x < 7) & (x > 5)].mean(),\n",
    "    MEAN_PCT_CHG_5_3 = lambda x : x[(x < 5) & (x > 3)].mean(),\n",
    "    MEAN_PCT_CHG_3_0 = lambda x : x[(x < 3) & (x > 0)].mean(),\n",
    "    MEAN_PCT_CHG_0_3 = lambda x : x[(x < 0) & (x > -3)].mean(),\n",
    "    MEAN_PCT_CHG_3_5 = lambda x : x[(x < -3) & (x > -5)].mean(),\n",
    "    MEAN_PCT_CHG_5_7 = lambda x : x[(x < -5) & (x > -7)].mean(),\n",
    "    MEAN_PCT_CHG_7_10 = lambda x : x[(x < -7) & (x > -10)].mean()\n",
    ").reset_index()\n",
    "\n",
    "dws_stock_price_performance_inf_di.head"
   ]
  },
  {
   "cell_type": "code",
   "execution_count": 41,
   "id": "9b44d502-e2b7-47d9-a60e-a4e541e961eb",
   "metadata": {},
   "outputs": [],
   "source": [
    "dws_stock_price_performance_inf_di = dws_stock_price_performance_inf_di.fillna(0)\n",
    "data = dws_stock_price_performance_inf_di"
   ]
  },
  {
   "cell_type": "code",
   "execution_count": 53,
   "id": "584ea124-8a6e-4eb1-91d4-f8d9daa2ee0d",
   "metadata": {
    "scrolled": true
   },
   "outputs": [
    {
     "name": "stdout",
     "output_type": "stream",
     "text": [
      "                                       COUNT      MEAN\n",
      "date       INDUSTRY_GICS PCT_CHG_X_Y                  \n",
      "2023-12-25 信息技术          PCT_CHG_10_7      1  9.963548\n",
      "                         PCT_CHG_7_5       0  0.000000\n",
      "                         PCT_CHG_5_3       1  3.146853\n",
      "                         PCT_CHG_3_0      42  1.028969\n",
      "                         PCT_CHG_0_3      14 -0.806327\n",
      "                         PCT_CHG_3_5       3 -3.382486\n",
      "                         PCT_CHG_5_7       0  0.000000\n",
      "                         PCT_CHG_7_10      2 -7.609329\n",
      "           公用事业          PCT_CHG_10_7      0  0.000000\n",
      "                         PCT_CHG_7_5       0  0.000000\n"
     ]
    }
   ],
   "source": [
    "# Define the COUNT and MEAN columns\n",
    "pct_chg_columns = [col for col in data.columns if 'PCT_CHG' in col and 'MEAN' not in col]\n",
    "mean_pct_chg_columns = [col for col in data.columns if 'MEAN_PCT_CHG' in col]\n",
    "\n",
    "# Extract COUNT data\n",
    "count_data = data.loc[:, ['date', 'INDUSTRY_GICS'] + pct_chg_columns].melt(id_vars=['date', 'INDUSTRY_GICS'], var_name='PCT_CHG_X_Y', value_name='COUNT')\n",
    "count_data['PCT_CHG_X_Y'] = count_data['PCT_CHG_X_Y'].apply(lambda x: x.replace('N_', ''))\n",
    "\n",
    "# Extract MEAN data\n",
    "mean_data = data.loc[:, ['date', 'INDUSTRY_GICS'] + mean_pct_chg_columns].melt(id_vars=['date', 'INDUSTRY_GICS'], var_name='PCT_CHG_X_Y', value_name='MEAN')\n",
    "mean_data['PCT_CHG_X_Y'] = mean_data['PCT_CHG_X_Y'].apply(lambda x: x.replace('MEAN_', ''))\n",
    "\n",
    "# Merge COUNT and MEAN data\n",
    "combined_data = pd.merge(count_data, mean_data, on=['date', 'INDUSTRY_GICS', 'PCT_CHG_X_Y'])\n",
    "\n",
    "# Define the desired sort order for PCT CHG X Y\n",
    "desired_order = [\n",
    "    'PCT_CHG_10_7', 'PCT_CHG_7_5', 'PCT_CHG_5_3', 'PCT_CHG_3_0',\n",
    "    'PCT_CHG_0_3', 'PCT_CHG_3_5', 'PCT_CHG_5_7', 'PCT_CHG_7_10'\n",
    "]\n",
    "\n",
    "# Apply sorting by category\n",
    "combined_data['PCT_CHG_X_Y'] = pd.Categorical(combined_data['PCT_CHG_X_Y'], categories=desired_order, ordered=True)\n",
    "\n",
    "# Reset the index and sort the data in new order\n",
    "final_adjusted_sorted_data = combined_data.set_index(['date', 'INDUSTRY_GICS', 'PCT_CHG_X_Y']).sort_index(level=[0, 1, 2])\n",
    "\n",
    "# Displays the first few rows of data after the reordering\n",
    "print(final_adjusted_sorted_data.head(10))"
   ]
  },
  {
   "cell_type": "code",
   "execution_count": 56,
   "id": "2a4c69b5-9c42-4331-91dc-849a1f000a6f",
   "metadata": {},
   "outputs": [
    {
     "data": {
      "text/plain": [
       "<bound method NDFrame.head of             date INDUSTRY_GICS   PCT_CHG_X_Y  COUNT\n",
       "0     2023-12-25          信息技术  PCT_CHG_10_7      1\n",
       "1     2023-12-25          公用事业  PCT_CHG_10_7      0\n",
       "2     2023-12-25          医疗保健  PCT_CHG_10_7      1\n",
       "3     2023-12-25          可选消费  PCT_CHG_10_7      0\n",
       "4     2023-12-25            工业  PCT_CHG_10_7      0\n",
       "...          ...           ...           ...    ...\n",
       "5363  2024-03-27          日常消费  PCT_CHG_7_10      1\n",
       "5364  2024-03-27            材料  PCT_CHG_7_10      0\n",
       "5365  2024-03-27          电信服务  PCT_CHG_7_10      0\n",
       "5366  2024-03-27            能源  PCT_CHG_7_10      0\n",
       "5367  2024-03-27            金融  PCT_CHG_7_10      0\n",
       "\n",
       "[5368 rows x 4 columns]>"
      ]
     },
     "execution_count": 56,
     "metadata": {},
     "output_type": "execute_result"
    }
   ],
   "source": [
    "count_data.head"
   ]
  },
  {
   "cell_type": "code",
   "execution_count": 54,
   "id": "062641fb-2cda-4a25-a610-b5c1b275f2da",
   "metadata": {},
   "outputs": [],
   "source": [
    "dws_stock_price_performance_inf_di = final_adjusted_sorted_data"
   ]
  },
  {
   "cell_type": "code",
   "execution_count": 55,
   "id": "40b94b25-88a1-4da5-9ad3-00f3f4fd2242",
   "metadata": {},
   "outputs": [],
   "source": [
    "file_path_dws_stock_price_performance_inf_di = '/Users/yuechun/Desktop/QF5214 Data Engineering for Quantitative Finance/DWS/dws_stock_price_performance_inf_di.csv'\n",
    "dws_stock_price_performance_inf_di.to_csv(file_path_dws_stock_price_performance_inf_di, index=True, encoding='utf-8-sig')"
   ]
  },
  {
   "cell_type": "code",
   "execution_count": null,
   "id": "6b2eab5d",
   "metadata": {},
   "outputs": [],
   "source": [
    "# Insert the DataFrame directly into the MySQL table\n",
    "dws_stock_price_performance_inf_di.to_sql(name=dws_stock_price_performance_inf_di, con=engine, if_exists='append', index=False)\n",
    "\n",
    "print(\"CSV data has been successfully imported into the MySQL database\")\n",
    "\n",
    "# Close the engine connection\n",
    "engine.dispose()"
   ]
  },
  {
   "cell_type": "code",
   "execution_count": null,
   "id": "57e65968",
   "metadata": {},
   "outputs": [],
   "source": [
    "query_1 = \"SELECT * FROM guba_eastmoney_stock_comments\"\n",
    "query_2 = \"SELECT * FROM stock_comments_xueqiu\"\n",
    "query_3 = \"SELECT * FROM merged_data_fund\"\n",
    "query_4 = \"SELECT * FROM stock_news_titles_like_comments\"\n",
    "# Use pandas to read the SQL query result into a DataFrame\n",
    "df_1 = pd.read_sql(query_1, cnx)\n",
    "df_2 = pd.read_sql(query_2, cnx)\n",
    "df_3 = pd.read_sql(query_3, cnx)\n",
    "df_4 = pd.read_sql(query_4, cnx)\n",
    "\n",
    "# Save the DataFrame to a CSV file\n",
    "csv_file_path_1 = '/Users/yuechun/Desktop/QF5214 Data Engineering for Quantitative Finance/ODS/guba_eastmoney_stock_comments.csv'\n",
    "csv_file_path_2 = '/Users/yuechun/Desktop/QF5214 Data Engineering for Quantitative Finance/ODS/stock_comments_xueqiu.csv'\n",
    "csv_file_path_3 = '/Users/yuechun/Desktop/QF5214 Data Engineering for Quantitative Finance/ODS/merged_data_fund.csv'\n",
    "csv_file_path_4 = '/Users/yuechun/Desktop/QF5214 Data Engineering for Quantitative Finance/ODS/stock_news_titles_like_comments.csv'\n",
    "\n",
    "df.to_csv(csv_file_path_1, index=False)\n",
    "df.to_csv(csv_file_path_2, index=False)\n",
    "df.to_csv(csv_file_path_3, index=False)\n",
    "df.to_csv(csv_file_path_4, index=False)\n",
    "\n",
    "# Close the database connection\n",
    "cnx.close()"
   ]
  },
  {
   "cell_type": "code",
   "execution_count": 52,
   "id": "cc7666d4-e1b2-439b-a52b-7471e59c9bfd",
   "metadata": {},
   "outputs": [],
   "source": [
    "file_path_comment_ef_stock = '/Users/yuechun/Desktop/QF5214 Data Engineering for Quantitative Finance/ODS/guba_eastmoney_stock_comments.csv'\n",
    "file_path_comment_sb_stock = '/Users/yuechun/Desktop/QF5214 Data Engineering for Quantitative Finance/ODS/stock_comments_xueqiu.csv'\n",
    "file_path_comment_ef_fund = '/Users/yuechun/Desktop/QF5214 Data Engineering for Quantitative Finance/ODS/merged_data_fund.csv'\n",
    "file_path_news_ef_stock = '/Users/yuechun/Desktop/QF5214 Data Engineering for Quantitative Finance/ODS/stock_news_titles_like_comments.csv'\n",
    "\n",
    "ods_comment_ef_stock = pd.read_csv(file_path_comment_ef_stock)\n",
    "ods_comment_sb_stock = pd.read_csv(file_path_comment_sb_stock)\n",
    "ods_news_ef_stock = pd.read_csv(file_path_news_ef_stock)\n",
    "ods_comment_ef_fund = pd.read_csv(file_path_comment_ef_fund)"
   ]
  },
  {
   "cell_type": "code",
   "execution_count": 53,
   "id": "c912fa51-8104-4806-9b7a-82235e4b6250",
   "metadata": {},
   "outputs": [
    {
     "data": {
      "text/plain": [
       "['id',\n",
       " 'stock_index',\n",
       " 'read_counts',\n",
       " 'comment_counts',\n",
       " 'title',\n",
       " 'author',\n",
       " 'update_time',\n",
       " 'detail_link',\n",
       " 'source']"
      ]
     },
     "execution_count": 53,
     "metadata": {},
     "output_type": "execute_result"
    }
   ],
   "source": [
    "ods_comment_ef_stock.columns.tolist()"
   ]
  },
  {
   "cell_type": "code",
   "execution_count": 7,
   "id": "deaf20f6-fcef-4a75-9343-f6b932d83515",
   "metadata": {},
   "outputs": [
    {
     "data": {
      "text/plain": [
       "['post_id',\n",
       " 'stock_index',\n",
       " 'read_counts',\n",
       " 'comment_counts',\n",
       " 'title',\n",
       " 'author',\n",
       " 'update_time',\n",
       " 'source']"
      ]
     },
     "execution_count": 7,
     "metadata": {},
     "output_type": "execute_result"
    }
   ],
   "source": [
    "ods_comment_sb_stock.columns.tolist()"
   ]
  },
  {
   "cell_type": "code",
   "execution_count": 51,
   "id": "7d10ec15-9b83-4975-804e-92defba6e421",
   "metadata": {},
   "outputs": [
    {
     "data": {
      "text/plain": [
       "['stock_code',\n",
       " 'update_time',\n",
       " 'title',\n",
       " 'read_counts',\n",
       " 'comment_counts',\n",
       " 'author',\n",
       " 'source',\n",
       " 'data_type']"
      ]
     },
     "execution_count": 51,
     "metadata": {},
     "output_type": "execute_result"
    }
   ],
   "source": [
    "ods_news_ef_stock.columns.tolist()"
   ]
  },
  {
   "cell_type": "code",
   "execution_count": 9,
   "id": "0b58a873-4bff-493a-b934-946c05552971",
   "metadata": {},
   "outputs": [
    {
     "data": {
      "text/plain": [
       "['views_count',\n",
       " 'comments_count',\n",
       " 'comment',\n",
       " 'author_name',\n",
       " 'time',\n",
       " 'fund_id',\n",
       " 'source']"
      ]
     },
     "execution_count": 9,
     "metadata": {},
     "output_type": "execute_result"
    }
   ],
   "source": [
    "ods_comment_ef_fund.columns.tolist()"
   ]
  },
  {
   "cell_type": "code",
   "execution_count": 54,
   "id": "5fe6ffd6-69f4-4b84-bd8b-a458b85a056a",
   "metadata": {},
   "outputs": [],
   "source": [
    "ods_comment_ef_stock = ods_comment_ef_stock.rename(columns={'stock_index': 'stock_code','id': 'post_id'})\n",
    "ods_comment_sb_stock = ods_comment_sb_stock.rename(columns={'stock_index': 'stock_code'})\n",
    "ods_news_ef_stock = ods_news_ef_stock.rename(columns={'release_time':'update_time','reading_numb':'read_counts','comment_numb':'comment_counts','news_titles':'title'})\n",
    "ods_comment_ef_fund = ods_comment_ef_fund.rename(columns={'author_name':'author','views_count':'read_counts','comments_count':'comment_counts','comment':'title','time':'update_time'})\n",
    "\n",
    "ods_comment_ef_stock['data_type'] = 'comment'\n",
    "ods_comment_sb_stock['data_type'] = 'comment'\n",
    "ods_news_ef_stock['data_type'] = 'news'\n",
    "ods_comment_ef_fund['data_type'] = 'comment'"
   ]
  },
  {
   "cell_type": "code",
   "execution_count": null,
   "id": "0b90632b",
   "metadata": {},
   "outputs": [],
   "source": [
    "# Convert `update_time` to datetime format for proper sorting\n",
    "ods_comment_ef_stock['update_time'] = pd.to_datetime(ods_comment_ef_stock['update_time'], dayfirst=True, errors='raise')\n",
    "ods_comment_sb_stock['update_time'] = pd.to_datetime(ods_comment_sb_stock['update_time'], errors='raise')\n",
    "ods_news_ef_stock['update_time'] = pd.to_datetime(ods_news_ef_stock['update_time'], errors='raise')"
   ]
  },
  {
   "cell_type": "code",
   "execution_count": 61,
   "id": "3f177a83-b428-451c-942e-83ecc2516a7d",
   "metadata": {},
   "outputs": [],
   "source": [
    "file_path_ods_comment_sb_stock = '/Users/yuechun/Desktop/QF5214 Data Engineering for Quantitative Finance/ODS/ods_comment_SB_stock.csv'\n",
    "file_path_ods_comment_ef_stock = '/Users/yuechun/Desktop/QF5214 Data Engineering for Quantitative Finance/ODS/ods_comment_EF_stock.csv'\n",
    "file_path_ods_news_ef_stock = '/Users/yuechun/Desktop/QF5214 Data Engineering for Quantitative Finance/ODS/ods_news_EF_stock.csv'\n",
    "file_path_ods_comment_ef_fund = '/Users/yuechun/Desktop/QF5214 Data Engineering for Quantitative Finance/ODS/ods_comment_EF_fund.csv'\n",
    "\n",
    "ods_comment_ef_stock.to_csv(file_path_ods_comment_ef_stock, index=False)\n",
    "ods_comment_sb_stock.to_csv(file_path_ods_comment_sb_stock, index=False)\n",
    "ods_news_ef_stock.to_csv(file_path_ods_news_ef_stock, index=False)\n",
    "ods_comment_ef_fund.to_csv(file_path_ods_comment_ef_fund, index=False)"
   ]
  },
  {
   "cell_type": "code",
   "execution_count": null,
   "id": "2fb105bc",
   "metadata": {},
   "outputs": [],
   "source": [
    "# Insert the DataFrame directly into the MySQL table\n",
    "ods_comment_ef_stock.to_sql(name=ods_comment_ef_stock, con=engine, if_exists='append', index=False)\n",
    "ods_comment_sb_stock.to_sql(name=ods_comment_sb_stock, con=engine, if_exists='append', index=False)\n",
    "ods_news_ef_stock.to_sql(name=ods_news_ef_stock, con=engine, if_exists='append', index=False)\n",
    "ods_comment_ef_fund.to_sql(name=ods_comment_ef_fund, con=engine, if_exists='append', index=False)\n",
    "\n",
    "print(\"CSV data has been successfully imported into the MySQL database\")\n",
    "\n",
    "# Close the engine connection\n",
    "engine.dispose()"
   ]
  },
  {
   "cell_type": "code",
   "execution_count": null,
   "id": "cd9d44e7",
   "metadata": {},
   "outputs": [],
   "source": [
    "query_1 = \"SELECT * FROM ods_comment_EF_stock_sen\"\n",
    "query_2 = \"SELECT * FROM ods_comment_SB_stock_sen\"\n",
    "query_3 = \"SELECT * FROM ods_news_EF_stock_sen\"\n",
    "query_4 = \"SELECT * FROM ods_comment_EF_fund_sen\"\n",
    "# Use pandas to read the SQL query result into a DataFrame\n",
    "df_1 = pd.read_sql(query_1, cnx)\n",
    "df_2 = pd.read_sql(query_2, cnx)\n",
    "df_3 = pd.read_sql(query_3, cnx)\n",
    "df_4 = pd.read_sql(query_4, cnx)\n",
    "\n",
    "# Save the DataFrame to a CSV file\n",
    "csv_file_path_1 = '/Users/yuechun/Desktop/QF5214 Data Engineering for Quantitative Finance/ODS/ods_comment_EF_stock_sen.csv'\n",
    "csv_file_path_2 = '/Users/yuechun/Desktop/QF5214 Data Engineering for Quantitative Finance/ODS/ods_comment_SB_stock_sen.csv'\n",
    "csv_file_path_3 = '/Users/yuechun/Desktop/QF5214 Data Engineering for Quantitative Finance/ODS/ods_news_EF_stock_sen.csv'\n",
    "csv_file_path_4 = '/Users/yuechun/Desktop/QF5214 Data Engineering for Quantitative Finance/ODS/ods_comment_EF_fund_sen.csv'\n",
    "\n",
    "df.to_csv(csv_file_path_1, index=False)\n",
    "df.to_csv(csv_file_path_2, index=False)\n",
    "df.to_csv(csv_file_path_3, index=False)\n",
    "df.to_csv(csv_file_path_4, index=False)\n",
    "\n",
    "# Close the database connection\n",
    "cnx.close()"
   ]
  },
  {
   "cell_type": "code",
   "execution_count": 4,
   "id": "782ebfb4",
   "metadata": {},
   "outputs": [],
   "source": [
    "#After finishing Sentiment analysis, we have new csv file\n",
    "file_path_ods_comment_ef_stock_sen = '/Users/yuechun/Desktop/QF5214 Data Engineering for Quantitative Finance/ODS/ods_comment_EF_stock_sen.csv'\n",
    "file_path_ods_comment_sb_stock_sen = '/Users/yuechun/Desktop/QF5214 Data Engineering for Quantitative Finance/ODS/ods_comment_SB_stock_sen.csv'\n",
    "file_path_ods_news_ef_stock_sen = '/Users/yuechun/Desktop/QF5214 Data Engineering for Quantitative Finance/ODS/ods_news_EF_stock_sen.csv'\n",
    "file_path_ods_comment_ef_fund_sen = '/Users/yuechun/Desktop/QF5214 Data Engineering for Quantitative Finance/ODS/ods_comment_EF_fund_sen.csv'\n",
    "\n",
    "ods_comment_ef_stock_sen = pd.read_csv(file_path_ods_comment_ef_stock_sen)\n",
    "ods_comment_sb_stock_sen = pd.read_csv(file_path_ods_comment_sb_stock_sen)\n",
    "ods_news_ef_stock_sen = pd.read_csv(file_path_ods_news_ef_stock_sen)\n",
    "ods_comment_ef_fund_sen = pd.read_csv(file_path_ods_comment_ef_fund_sen)"
   ]
  },
  {
   "cell_type": "code",
   "execution_count": 5,
   "id": "ebfeeaa5",
   "metadata": {},
   "outputs": [
    {
     "data": {
      "text/plain": [
       "<bound method NDFrame.head of          post_id  stock_code  read_counts  comment_counts  \\\n",
       "0      283805426      600000         1191               0   \n",
       "1      283803062      600000         1231               0   \n",
       "2      283738559      600000         2420               0   \n",
       "3      283724648      600000         2868               0   \n",
       "4      283606946      600000         8655               0   \n",
       "...          ...         ...          ...             ...   \n",
       "90725  281653698      301269        34459               0   \n",
       "90726  281402802      301269        38219               0   \n",
       "90727  281310979      301269        43458               1   \n",
       "90728  281061176      301269        44355               1   \n",
       "90729  280605057      301269        55810               2   \n",
       "\n",
       "                                                   title     author  \\\n",
       "0                                          个别银行指哪个？浦发银行？     看不完怎么办   \n",
       "1      回复@攒股收息乙: 浦发银行不良下降4个基点，拨备覆盖率增加14.5%，也就是如果拨备覆盖率...         鉄山   \n",
       "2                $浦发银行(SH600000)$如果分红0.35，算超过我预期了，反之，就拜拜   超级石头9435   \n",
       "3                            $浦发银行(SH600000)$ 再过两天可以开空单了     不会股票的C   \n",
       "4      文：向善财经$浦发银行(SH600000)$ 最近一段时间，银行股表现也不尽如人意，近一个月...       向善财经   \n",
       "...                                                  ...        ...   \n",
       "90725  针对特定下游持续推出全流程工具。根据公司2023年中报，公司主要从事用于集成电路设计、制造和...       研报真知   \n",
       "90726                  $华大九天(SZ301269)$ 这票基本错过这一个多月的科技行情  法QChelios   \n",
       "90727  日亏不到0.5%，三月亏不到0.9%，整天连上证指数都跑不赢，虚度光阴。今天建仓华大九天，昨...    股海无涯ABC   \n",
       "90728               $华大九天(SZ301269)$ 51.22股权激励价当做铁底，做个记录       富博投资   \n",
       "90729                 $华大九天(SZ301269)$ 很多人都没发现，这个是芯片ai龙头    琛201310   \n",
       "\n",
       "               update_time     source data_type  sentiment  \n",
       "0      2024-03-27 21:36:00   雪球iPhone   comment         -1  \n",
       "1      2024-03-27 21:23:00  雪球Android   comment         -1  \n",
       "2      2024-03-27 14:45:00   雪球iPhone   comment         -1  \n",
       "3      2024-03-27 13:39:00   雪球iPhone   comment          0  \n",
       "4      2024-03-26 18:51:00         雪球   comment         -1  \n",
       "...                    ...        ...       ...        ...  \n",
       "90725  2024-03-12 08:56:00         雪球   comment          1  \n",
       "90726  2024-03-09 16:19:00  雪球Android   comment          1  \n",
       "90727  2024-03-08 15:42:00  雪球Android   comment         -1  \n",
       "90728  2024-03-07 03:01:00  雪球Android   comment          0  \n",
       "90729  2024-03-03 23:13:00  雪球Android   comment          1  \n",
       "\n",
       "[90730 rows x 10 columns]>"
      ]
     },
     "execution_count": 5,
     "metadata": {},
     "output_type": "execute_result"
    }
   ],
   "source": [
    "ods_comment_sb_stock_sen.head"
   ]
  },
  {
   "cell_type": "code",
   "execution_count": 6,
   "id": "d59efc48",
   "metadata": {},
   "outputs": [
    {
     "data": {
      "text/plain": [
       "<bound method NDFrame.head of          post_id  stock_code  read_counts  comment_counts  \\\n",
       "0      283805426      600000         1191               0   \n",
       "1      283803062      600000         1231               0   \n",
       "2      283738559      600000         2420               0   \n",
       "3      283724648      600000         2868               0   \n",
       "4      283606946      600000         8655               0   \n",
       "...          ...         ...          ...             ...   \n",
       "90725  281653698      301269        34459               0   \n",
       "90726  281402802      301269        38219               0   \n",
       "90727  281310979      301269        43458               1   \n",
       "90728  281061176      301269        44355               1   \n",
       "90729  280605057      301269        55810               2   \n",
       "\n",
       "                                                   title     author  \\\n",
       "0                                          个别银行指哪个？浦发银行？     看不完怎么办   \n",
       "1      回复@攒股收息乙: 浦发银行不良下降4个基点，拨备覆盖率增加14.5%，也就是如果拨备覆盖率...         鉄山   \n",
       "2                $浦发银行(SH600000)$如果分红0.35，算超过我预期了，反之，就拜拜   超级石头9435   \n",
       "3                            $浦发银行(SH600000)$ 再过两天可以开空单了     不会股票的C   \n",
       "4      文：向善财经$浦发银行(SH600000)$ 最近一段时间，银行股表现也不尽如人意，近一个月...       向善财经   \n",
       "...                                                  ...        ...   \n",
       "90725  针对特定下游持续推出全流程工具。根据公司2023年中报，公司主要从事用于集成电路设计、制造和...       研报真知   \n",
       "90726                  $华大九天(SZ301269)$ 这票基本错过这一个多月的科技行情  法QChelios   \n",
       "90727  日亏不到0.5%，三月亏不到0.9%，整天连上证指数都跑不赢，虚度光阴。今天建仓华大九天，昨...    股海无涯ABC   \n",
       "90728               $华大九天(SZ301269)$ 51.22股权激励价当做铁底，做个记录       富博投资   \n",
       "90729                 $华大九天(SZ301269)$ 很多人都没发现，这个是芯片ai龙头    琛201310   \n",
       "\n",
       "              update_time     source data_type  sentiment  \n",
       "0     2024-03-27 21:36:00   雪球iPhone   comment         -1  \n",
       "1     2024-03-27 21:23:00  雪球Android   comment         -1  \n",
       "2     2024-03-27 14:45:00   雪球iPhone   comment         -1  \n",
       "3     2024-03-27 13:39:00   雪球iPhone   comment          0  \n",
       "4     2024-03-26 18:51:00         雪球   comment         -1  \n",
       "...                   ...        ...       ...        ...  \n",
       "90725 2024-03-12 08:56:00         雪球   comment          1  \n",
       "90726 2024-03-09 16:19:00  雪球Android   comment          1  \n",
       "90727 2024-03-08 15:42:00  雪球Android   comment         -1  \n",
       "90728 2024-03-07 03:01:00  雪球Android   comment          0  \n",
       "90729 2024-03-03 23:13:00  雪球Android   comment          1  \n",
       "\n",
       "[90730 rows x 10 columns]>"
      ]
     },
     "execution_count": 6,
     "metadata": {},
     "output_type": "execute_result"
    }
   ],
   "source": [
    "ods_comment_sb_stock_sen['update_time'] = pd.to_datetime(ods_comment_sb_stock_sen['update_time'], errors='raise')\n",
    "ods_comment_sb_stock_sen.head"
   ]
  },
  {
   "cell_type": "code",
   "execution_count": 7,
   "id": "abcafac6",
   "metadata": {},
   "outputs": [
    {
     "data": {
      "text/plain": [
       "['post_id',\n",
       " 'stock_code',\n",
       " 'read_counts',\n",
       " 'comment_counts',\n",
       " 'title',\n",
       " 'author',\n",
       " 'update_time',\n",
       " 'source',\n",
       " 'data_type',\n",
       " 'sentiment']"
      ]
     },
     "execution_count": 7,
     "metadata": {},
     "output_type": "execute_result"
    }
   ],
   "source": [
    "ods_comment_sb_stock_sen.columns.tolist()"
   ]
  },
  {
   "cell_type": "code",
   "execution_count": 8,
   "id": "ccd59ceb",
   "metadata": {},
   "outputs": [
    {
     "data": {
      "text/plain": [
       "<bound method NDFrame.head of              post_id  stock_code  read_counts  comment_counts  \\\n",
       "0       1.410000e+15           1           40               0   \n",
       "1       1.410000e+15           1          129               0   \n",
       "2       1.410000e+15           1          166               3   \n",
       "3       1.410000e+15           1          165               0   \n",
       "4       1.410000e+15           1          122               0   \n",
       "...              ...         ...          ...             ...   \n",
       "324647  1.410000e+15      688599          721              11   \n",
       "324648  1.410000e+15      688599          817              16   \n",
       "324649  1.410000e+15      688599          270               8   \n",
       "324650  1.410000e+15      688981          651               7   \n",
       "324651  1.410000e+15      688981         7415              47   \n",
       "\n",
       "                                                    title   author  \\\n",
       "0                                                      转发  牵动心ling   \n",
       "1                                         跌下来买够，深市打新必备佳品。  铁血之最后战场   \n",
       "2                                我要主动买入仓位了，7个多点股利，不是每天都有的  和风谐水百万户   \n",
       "3                以前兴业银行分红前后不是低于净资产增发就是发行优先股和可转债，今年要发行资本工具     wpef   \n",
       "4                 平安这个铁公鸡，以后都能有这么高的分红吗？还是仅仅今年为利好出货整这么个分红？    中行原油宝   \n",
       "...                                                   ...      ...   \n",
       "324647        光储引领！天合光能至尊N型720W及储能Elementa 2亮相中国国际清洁能源博览会     光伏头条   \n",
       "324648  CellTech国际研讨TOPCon领先性，天合光能至尊N型720W组件高价值引领700W+...     光伏头条   \n",
       "324649                  天合光能15元-价额又狂跌-亏损激增-股价再跌50%，价格无底洞？    山上红牡丹   \n",
       "324650           所有筑底的股票都是有人刻意唱空，然后主力配合打压后形成的！半导体芯片行业已走出低     业余一段   \n",
       "324651                                 千万不要轻易吐槽、瞧不起“代工”企业   低调南湖先生   \n",
       "\n",
       "               update_time                                        detail_link  \\\n",
       "0       15/3/2024 12:02:00                       /news,000001,1408107867.html   \n",
       "1       19/3/2024 01:48:00                       /news,000001,1409226509.html   \n",
       "2       19/3/2024 01:28:00                       /news,000001,1409210195.html   \n",
       "3       19/3/2024 01:44:00                       /news,000001,1409223073.html   \n",
       "4       19/3/2024 01:41:00                       /news,000001,1409220525.html   \n",
       "...                    ...                                                ...   \n",
       "324647  26/3/2024 07:35:00  //caifuhao.eastmoney.com/news/2024032619350849...   \n",
       "324648  14/3/2024 06:45:00  //caifuhao.eastmoney.com/news/2024031418454429...   \n",
       "324649  31/3/2024 05:26:00  //caifuhao.eastmoney.com/news/2024033117263252...   \n",
       "324650  31/3/2024 10:55:00                       /news,688981,1413459579.html   \n",
       "324651  31/3/2024 02:22:00  //caifuhao.eastmoney.com/news/2024033102225330...   \n",
       "\n",
       "               source data_type sentiment  \n",
       "0       gubaeastmoney   comment         1  \n",
       "1       gubaeastmoney   comment         1  \n",
       "2       gubaeastmoney   comment         0  \n",
       "3       gubaeastmoney   comment        -1  \n",
       "4       gubaeastmoney   comment        -1  \n",
       "...               ...       ...       ...  \n",
       "324647  gubaeastmoney   comment         1  \n",
       "324648  gubaeastmoney   comment         1  \n",
       "324649  gubaeastmoney   comment        -1  \n",
       "324650  gubaeastmoney   comment         0  \n",
       "324651  gubaeastmoney   comment        -1  \n",
       "\n",
       "[324652 rows x 11 columns]>"
      ]
     },
     "execution_count": 8,
     "metadata": {},
     "output_type": "execute_result"
    }
   ],
   "source": [
    "ods_comment_ef_stock_sen.head"
   ]
  },
  {
   "cell_type": "code",
   "execution_count": 9,
   "id": "a45b8c0c",
   "metadata": {},
   "outputs": [
    {
     "data": {
      "text/plain": [
       "<bound method NDFrame.head of              post_id  stock_code  read_counts  comment_counts  \\\n",
       "0       1.410000e+15           1           40               0   \n",
       "1       1.410000e+15           1          129               0   \n",
       "2       1.410000e+15           1          166               3   \n",
       "3       1.410000e+15           1          165               0   \n",
       "4       1.410000e+15           1          122               0   \n",
       "...              ...         ...          ...             ...   \n",
       "324647  1.410000e+15      688599          721              11   \n",
       "324648  1.410000e+15      688599          817              16   \n",
       "324649  1.410000e+15      688599          270               8   \n",
       "324650  1.410000e+15      688981          651               7   \n",
       "324651  1.410000e+15      688981         7415              47   \n",
       "\n",
       "                                                    title   author  \\\n",
       "0                                                      转发  牵动心ling   \n",
       "1                                         跌下来买够，深市打新必备佳品。  铁血之最后战场   \n",
       "2                                我要主动买入仓位了，7个多点股利，不是每天都有的  和风谐水百万户   \n",
       "3                以前兴业银行分红前后不是低于净资产增发就是发行优先股和可转债，今年要发行资本工具     wpef   \n",
       "4                 平安这个铁公鸡，以后都能有这么高的分红吗？还是仅仅今年为利好出货整这么个分红？    中行原油宝   \n",
       "...                                                   ...      ...   \n",
       "324647        光储引领！天合光能至尊N型720W及储能Elementa 2亮相中国国际清洁能源博览会     光伏头条   \n",
       "324648  CellTech国际研讨TOPCon领先性，天合光能至尊N型720W组件高价值引领700W+...     光伏头条   \n",
       "324649                  天合光能15元-价额又狂跌-亏损激增-股价再跌50%，价格无底洞？    山上红牡丹   \n",
       "324650           所有筑底的股票都是有人刻意唱空，然后主力配合打压后形成的！半导体芯片行业已走出低     业余一段   \n",
       "324651                                 千万不要轻易吐槽、瞧不起“代工”企业   低调南湖先生   \n",
       "\n",
       "               update_time                                        detail_link  \\\n",
       "0      2024-03-15 12:02:00                       /news,000001,1408107867.html   \n",
       "1      2024-03-19 01:48:00                       /news,000001,1409226509.html   \n",
       "2      2024-03-19 01:28:00                       /news,000001,1409210195.html   \n",
       "3      2024-03-19 01:44:00                       /news,000001,1409223073.html   \n",
       "4      2024-03-19 01:41:00                       /news,000001,1409220525.html   \n",
       "...                    ...                                                ...   \n",
       "324647 2024-03-26 07:35:00  //caifuhao.eastmoney.com/news/2024032619350849...   \n",
       "324648 2024-03-14 06:45:00  //caifuhao.eastmoney.com/news/2024031418454429...   \n",
       "324649 2024-03-31 05:26:00  //caifuhao.eastmoney.com/news/2024033117263252...   \n",
       "324650 2024-03-31 10:55:00                       /news,688981,1413459579.html   \n",
       "324651 2024-03-31 02:22:00  //caifuhao.eastmoney.com/news/2024033102225330...   \n",
       "\n",
       "               source data_type sentiment  \n",
       "0       gubaeastmoney   comment         1  \n",
       "1       gubaeastmoney   comment         1  \n",
       "2       gubaeastmoney   comment         0  \n",
       "3       gubaeastmoney   comment        -1  \n",
       "4       gubaeastmoney   comment        -1  \n",
       "...               ...       ...       ...  \n",
       "324647  gubaeastmoney   comment         1  \n",
       "324648  gubaeastmoney   comment         1  \n",
       "324649  gubaeastmoney   comment        -1  \n",
       "324650  gubaeastmoney   comment         0  \n",
       "324651  gubaeastmoney   comment        -1  \n",
       "\n",
       "[324652 rows x 11 columns]>"
      ]
     },
     "execution_count": 9,
     "metadata": {},
     "output_type": "execute_result"
    }
   ],
   "source": [
    "ods_comment_ef_stock_sen['update_time'] = pd.to_datetime(ods_comment_ef_stock_sen['update_time'], errors='raise', dayfirst=True)\n",
    "ods_comment_ef_stock_sen.head"
   ]
  },
  {
   "cell_type": "code",
   "execution_count": 10,
   "id": "b15d94c0",
   "metadata": {},
   "outputs": [
    {
     "data": {
      "text/plain": [
       "['post_id',\n",
       " 'stock_code',\n",
       " 'read_counts',\n",
       " 'comment_counts',\n",
       " 'title',\n",
       " 'author',\n",
       " 'update_time',\n",
       " 'detail_link',\n",
       " 'source',\n",
       " 'data_type',\n",
       " 'sentiment']"
      ]
     },
     "execution_count": 10,
     "metadata": {},
     "output_type": "execute_result"
    }
   ],
   "source": [
    "ods_comment_ef_stock_sen.columns.tolist()"
   ]
  },
  {
   "cell_type": "code",
   "execution_count": 11,
   "id": "3a6ffea6",
   "metadata": {},
   "outputs": [
    {
     "data": {
      "text/plain": [
       "<bound method NDFrame.head of        stock_code      update_time  \\\n",
       "0               1    2024/4/1 8:51   \n",
       "1               1   2024/3/31 3:07   \n",
       "2               1   2024/3/31 2:11   \n",
       "3               1   2024/3/29 4:54   \n",
       "4               1   2024/3/29 8:41   \n",
       "...           ...              ...   \n",
       "71995      688012  2024/12/26 7:45   \n",
       "71996      688111   2024/2/23 5:01   \n",
       "71997      688223   2024/3/26 7:45   \n",
       "71998      688271   2024/12/9 7:44   \n",
       "71999      688271   2024/12/8 3:59   \n",
       "\n",
       "                                             title  read_counts  \\\n",
       "0               平安银行：融资净偿还9308.54万元，两市排名第15（03-29）           98   \n",
       "1                        平安银行本周融资净偿还1.71亿元，两市排名第13          137   \n",
       "2                    平安银行本周深股通持股市值增加1.89亿元，居银行板块第五          191   \n",
       "3      平安银行：截至2023年末 本行共有在职员工43119人（含派遣人员、含理财子和分行）         2802   \n",
       "4               平安银行：融资净偿还5438.84万元，两市排名第16（03-28）          115   \n",
       "...                                            ...          ...   \n",
       "71995        中微公司：融资净偿还993.82万元，融资余额11.31亿元（12-25）          189   \n",
       "71996                      金山办公02月22日被沪股通减持25.95万股          214   \n",
       "71997             晶科能源：连续4日融资净买入累计2014.64万元（03-25）          112   \n",
       "71998        联影医疗：融资净偿还3745.95万元，融资余额4.88亿元（12-08）          235   \n",
       "71999         突发！科创板尾盘突现惊人砸盘！美国“公子哥”曝出9大丑闻 可能被判17年        18066   \n",
       "\n",
       "       comment_counts  author sentiment         source data_type  \n",
       "0                   0  平安银行资讯         1  gubaeastmoney      news  \n",
       "1                   0   大眼看两融         1  gubaeastmoney      news  \n",
       "2                   1   胖猫周周见         0  gubaeastmoney      news  \n",
       "3                  10  平安银行资讯         1  gubaeastmoney      news  \n",
       "4                   0  平安银行资讯         1  gubaeastmoney      news  \n",
       "...               ...     ...       ...            ...       ...  \n",
       "71995               0  中微公司资讯         1  gubaeastmoney      news  \n",
       "71996               0  金山办公资讯        -1  gubaeastmoney      news  \n",
       "71997               0  晶科能源资讯         1  gubaeastmoney      news  \n",
       "71998               0  联影医疗资讯         1  gubaeastmoney      news  \n",
       "71999              16  联影医疗资讯        -1  gubaeastmoney      news  \n",
       "\n",
       "[72000 rows x 9 columns]>"
      ]
     },
     "execution_count": 11,
     "metadata": {},
     "output_type": "execute_result"
    }
   ],
   "source": [
    "ods_news_ef_stock_sen.head"
   ]
  },
  {
   "cell_type": "code",
   "execution_count": 12,
   "id": "93abf01e",
   "metadata": {},
   "outputs": [
    {
     "data": {
      "text/plain": [
       "<bound method NDFrame.head of        stock_code         update_time  \\\n",
       "0               1 2024-04-01 08:51:00   \n",
       "1               1 2024-03-31 03:07:00   \n",
       "2               1 2024-03-31 02:11:00   \n",
       "3               1 2024-03-29 04:54:00   \n",
       "4               1 2024-03-29 08:41:00   \n",
       "...           ...                 ...   \n",
       "71995      688012 2024-12-26 07:45:00   \n",
       "71996      688111 2024-02-23 05:01:00   \n",
       "71997      688223 2024-03-26 07:45:00   \n",
       "71998      688271 2024-12-09 07:44:00   \n",
       "71999      688271 2024-12-08 03:59:00   \n",
       "\n",
       "                                             title  read_counts  \\\n",
       "0               平安银行：融资净偿还9308.54万元，两市排名第15（03-29）           98   \n",
       "1                        平安银行本周融资净偿还1.71亿元，两市排名第13          137   \n",
       "2                    平安银行本周深股通持股市值增加1.89亿元，居银行板块第五          191   \n",
       "3      平安银行：截至2023年末 本行共有在职员工43119人（含派遣人员、含理财子和分行）         2802   \n",
       "4               平安银行：融资净偿还5438.84万元，两市排名第16（03-28）          115   \n",
       "...                                            ...          ...   \n",
       "71995        中微公司：融资净偿还993.82万元，融资余额11.31亿元（12-25）          189   \n",
       "71996                      金山办公02月22日被沪股通减持25.95万股          214   \n",
       "71997             晶科能源：连续4日融资净买入累计2014.64万元（03-25）          112   \n",
       "71998        联影医疗：融资净偿还3745.95万元，融资余额4.88亿元（12-08）          235   \n",
       "71999         突发！科创板尾盘突现惊人砸盘！美国“公子哥”曝出9大丑闻 可能被判17年        18066   \n",
       "\n",
       "       comment_counts  author sentiment         source data_type  \n",
       "0                   0  平安银行资讯         1  gubaeastmoney      news  \n",
       "1                   0   大眼看两融         1  gubaeastmoney      news  \n",
       "2                   1   胖猫周周见         0  gubaeastmoney      news  \n",
       "3                  10  平安银行资讯         1  gubaeastmoney      news  \n",
       "4                   0  平安银行资讯         1  gubaeastmoney      news  \n",
       "...               ...     ...       ...            ...       ...  \n",
       "71995               0  中微公司资讯         1  gubaeastmoney      news  \n",
       "71996               0  金山办公资讯        -1  gubaeastmoney      news  \n",
       "71997               0  晶科能源资讯         1  gubaeastmoney      news  \n",
       "71998               0  联影医疗资讯         1  gubaeastmoney      news  \n",
       "71999              16  联影医疗资讯        -1  gubaeastmoney      news  \n",
       "\n",
       "[72000 rows x 9 columns]>"
      ]
     },
     "execution_count": 12,
     "metadata": {},
     "output_type": "execute_result"
    }
   ],
   "source": [
    "ods_news_ef_stock_sen['update_time'] = pd.to_datetime(ods_news_ef_stock_sen['update_time'], errors='raise')\n",
    "ods_news_ef_stock_sen.head"
   ]
  },
  {
   "cell_type": "code",
   "execution_count": 13,
   "id": "84a6e243",
   "metadata": {},
   "outputs": [
    {
     "data": {
      "text/plain": [
       "['stock_code',\n",
       " 'update_time',\n",
       " 'title',\n",
       " 'read_counts',\n",
       " 'comment_counts',\n",
       " 'author',\n",
       " 'sentiment',\n",
       " 'source',\n",
       " 'data_type']"
      ]
     },
     "execution_count": 13,
     "metadata": {},
     "output_type": "execute_result"
    }
   ],
   "source": [
    "ods_news_ef_stock_sen.columns.tolist()"
   ]
  },
  {
   "cell_type": "code",
   "execution_count": 14,
   "id": "c028dcbb-131a-4c7f-99e4-b82341d37f0f",
   "metadata": {},
   "outputs": [
    {
     "data": {
      "text/plain": [
       "(       post_id  stock_code  read_counts  comment_counts  \\\n",
       " 0  283805426.0      600000         1191               0   \n",
       " 1  283803062.0      600000         1231               0   \n",
       " 2  283738559.0      600000         2420               0   \n",
       " 3  283724648.0      600000         2868               0   \n",
       " 4  283606946.0      600000         8655               0   \n",
       " \n",
       "                                                title    author  \\\n",
       " 0                                      个别银行指哪个？浦发银行？    看不完怎么办   \n",
       " 1  回复@攒股收息乙: 浦发银行不良下降4个基点，拨备覆盖率增加14.5%，也就是如果拨备覆盖率...        鉄山   \n",
       " 2            $浦发银行(SH600000)$如果分红0.35，算超过我预期了，反之，就拜拜  超级石头9435   \n",
       " 3                        $浦发银行(SH600000)$ 再过两天可以开空单了    不会股票的C   \n",
       " 4  文：向善财经$浦发银行(SH600000)$ 最近一段时间，银行股表现也不尽如人意，近一个月...      向善财经   \n",
       " \n",
       "           update_time     source data_type sentiment detail_link  \n",
       " 0 2024-03-27 21:36:00   雪球iPhone   comment        -1         NaN  \n",
       " 1 2024-03-27 21:23:00  雪球Android   comment        -1         NaN  \n",
       " 2 2024-03-27 14:45:00   雪球iPhone   comment        -1         NaN  \n",
       " 3 2024-03-27 13:39:00   雪球iPhone   comment         0         NaN  \n",
       " 4 2024-03-26 18:51:00         雪球   comment        -1         NaN  ,\n",
       "         post_id  stock_code  read_counts  comment_counts  \\\n",
       " 487377      NaN      688012          189               0   \n",
       " 487378      NaN      688111          214               0   \n",
       " 487379      NaN      688223          112               0   \n",
       " 487380      NaN      688271          235               0   \n",
       " 487381      NaN      688271        18066              16   \n",
       " \n",
       "                                         title  author         update_time  \\\n",
       " 487377  中微公司：融资净偿还993.82万元，融资余额11.31亿元（12-25）  中微公司资讯 2024-12-26 07:45:00   \n",
       " 487378                金山办公02月22日被沪股通减持25.95万股  金山办公资讯 2024-02-23 05:01:00   \n",
       " 487379       晶科能源：连续4日融资净买入累计2014.64万元（03-25）  晶科能源资讯 2024-03-26 07:45:00   \n",
       " 487380  联影医疗：融资净偿还3745.95万元，融资余额4.88亿元（12-08）  联影医疗资讯 2024-12-09 07:44:00   \n",
       " 487381   突发！科创板尾盘突现惊人砸盘！美国“公子哥”曝出9大丑闻 可能被判17年  联影医疗资讯 2024-12-08 03:59:00   \n",
       " \n",
       "                source data_type sentiment detail_link  \n",
       " 487377  gubaeastmoney      news         1         NaN  \n",
       " 487378  gubaeastmoney      news        -1         NaN  \n",
       " 487379  gubaeastmoney      news         1         NaN  \n",
       " 487380  gubaeastmoney      news         1         NaN  \n",
       " 487381  gubaeastmoney      news        -1         NaN  ,\n",
       " (487382, 11))"
      ]
     },
     "execution_count": 14,
     "metadata": {},
     "output_type": "execute_result"
    }
   ],
   "source": [
    "# Combine the three dataframes\n",
    "combined_df = pd.concat([ods_comment_sb_stock_sen, ods_comment_ef_stock_sen, ods_news_ef_stock_sen], ignore_index=True)\n",
    "\n",
    "# Display the first few rows of the combined dataframe to verify\n",
    "combined_df_head = combined_df.head()\n",
    "combined_df_tail = combined_df.tail()\n",
    "\n",
    "(combined_df_head, combined_df_tail, combined_df.shape)"
   ]
  },
  {
   "cell_type": "code",
   "execution_count": 44,
   "id": "346d7e92-3d22-4f4a-8356-331294239a8a",
   "metadata": {},
   "outputs": [
    {
     "data": {
      "text/plain": [
       "array(['0', '-1', '1', 'Open api qps request limit reached', 0, -1,\n",
       "       'recognize error', 1], dtype=object)"
      ]
     },
     "execution_count": 44,
     "metadata": {},
     "output_type": "execute_result"
    }
   ],
   "source": [
    "# Sort by `stock_code` and `update_time` in ascending order\n",
    "sorted_df = combined_df.sort_values(by=['stock_code', 'update_time'])\n",
    "\n",
    "# Add the 'input_date_time' column with the current system time for all rows\n",
    "sorted_df['input_date_time'] = current_time\n",
    "\n",
    "# Display what different values are in the sentiment column in the sorted_df table\n",
    "sorted_df['sentiment'].unique()"
   ]
  },
  {
   "cell_type": "code",
   "execution_count": 45,
   "id": "0c119a29",
   "metadata": {},
   "outputs": [],
   "source": [
    "sorted_df['sentiment'] = sorted_df['sentiment'].apply(lambda x: None if x in ['recognize error', 'Open api qps request limit reached'] else x)\n",
    "sorted_df['sentiment'] = sorted_df['sentiment'].astype(float)"
   ]
  },
  {
   "cell_type": "code",
   "execution_count": 46,
   "id": "e37d60dc-2db6-4d25-8540-9ccb6d89e795",
   "metadata": {},
   "outputs": [],
   "source": [
    "dwd_stock_sentiment_di = sorted_df\n",
    "file_path_dwd_stock_sentiment_di = '/Users/yuechun/Desktop/QF5214 Data Engineering for Quantitative Finance/DWD/dwd_stock_sentiment_di.csv'\n",
    "dwd_stock_sentiment_di.to_csv(file_path_dwd_stock_sentiment_di, index = False)"
   ]
  },
  {
   "cell_type": "code",
   "execution_count": null,
   "id": "4650473a",
   "metadata": {},
   "outputs": [],
   "source": [
    "# Insert the DataFrame directly into the MySQL table\n",
    "dwd_stock_sentiment_di.to_sql(name=dwd_stock_sentiment_di, con=engine, if_exists='append', index=False)\n",
    "\n",
    "print(\"CSV data has been successfully imported into the MySQL database\")\n",
    "\n",
    "# Close the engine connection\n",
    "engine.dispose()"
   ]
  },
  {
   "cell_type": "code",
   "execution_count": 47,
   "id": "402c4d55",
   "metadata": {},
   "outputs": [],
   "source": [
    "dwd_stock_sentiment_di['update_time'] = pd.to_datetime(dwd_stock_sentiment_di['update_time']).dt.date\n",
    "dws_stock_sentiment_analyse_1d = dwd_stock_sentiment_di"
   ]
  },
  {
   "cell_type": "code",
   "execution_count": 48,
   "id": "cbc2e940",
   "metadata": {},
   "outputs": [
    {
     "data": {
      "text/html": [
       "<div>\n",
       "<style scoped>\n",
       "    .dataframe tbody tr th:only-of-type {\n",
       "        vertical-align: middle;\n",
       "    }\n",
       "\n",
       "    .dataframe tbody tr th {\n",
       "        vertical-align: top;\n",
       "    }\n",
       "\n",
       "    .dataframe thead th {\n",
       "        text-align: right;\n",
       "    }\n",
       "</style>\n",
       "<table border=\"1\" class=\"dataframe\">\n",
       "  <thead>\n",
       "    <tr style=\"text-align: right;\">\n",
       "      <th></th>\n",
       "      <th>update_time</th>\n",
       "      <th>stock_code</th>\n",
       "      <th>sentiment</th>\n",
       "      <th>source</th>\n",
       "      <th>data_type</th>\n",
       "      <th>sentiment_count</th>\n",
       "      <th>total_read_counts</th>\n",
       "      <th>total_comment_counts</th>\n",
       "    </tr>\n",
       "  </thead>\n",
       "  <tbody>\n",
       "    <tr>\n",
       "      <th>0</th>\n",
       "      <td>2024-01-01</td>\n",
       "      <td>786</td>\n",
       "      <td>0.0</td>\n",
       "      <td>gubaeastmoney</td>\n",
       "      <td>news</td>\n",
       "      <td>1</td>\n",
       "      <td>2137</td>\n",
       "      <td>0</td>\n",
       "    </tr>\n",
       "    <tr>\n",
       "      <th>1</th>\n",
       "      <td>2024-01-01</td>\n",
       "      <td>786</td>\n",
       "      <td>1.0</td>\n",
       "      <td>gubaeastmoney</td>\n",
       "      <td>news</td>\n",
       "      <td>1</td>\n",
       "      <td>3282</td>\n",
       "      <td>17</td>\n",
       "    </tr>\n",
       "    <tr>\n",
       "      <th>2</th>\n",
       "      <td>2024-01-01</td>\n",
       "      <td>2241</td>\n",
       "      <td>1.0</td>\n",
       "      <td>gubaeastmoney</td>\n",
       "      <td>news</td>\n",
       "      <td>1</td>\n",
       "      <td>10331</td>\n",
       "      <td>27</td>\n",
       "    </tr>\n",
       "    <tr>\n",
       "      <th>3</th>\n",
       "      <td>2024-01-01</td>\n",
       "      <td>2352</td>\n",
       "      <td>1.0</td>\n",
       "      <td>gubaeastmoney</td>\n",
       "      <td>news</td>\n",
       "      <td>1</td>\n",
       "      <td>7623</td>\n",
       "      <td>11</td>\n",
       "    </tr>\n",
       "    <tr>\n",
       "      <th>4</th>\n",
       "      <td>2024-01-01</td>\n",
       "      <td>2601</td>\n",
       "      <td>1.0</td>\n",
       "      <td>gubaeastmoney</td>\n",
       "      <td>news</td>\n",
       "      <td>2</td>\n",
       "      <td>4075</td>\n",
       "      <td>14</td>\n",
       "    </tr>\n",
       "  </tbody>\n",
       "</table>\n",
       "</div>"
      ],
      "text/plain": [
       "  update_time  stock_code  sentiment         source data_type  \\\n",
       "0  2024-01-01         786        0.0  gubaeastmoney      news   \n",
       "1  2024-01-01         786        1.0  gubaeastmoney      news   \n",
       "2  2024-01-01        2241        1.0  gubaeastmoney      news   \n",
       "3  2024-01-01        2352        1.0  gubaeastmoney      news   \n",
       "4  2024-01-01        2601        1.0  gubaeastmoney      news   \n",
       "\n",
       "   sentiment_count  total_read_counts  total_comment_counts  \n",
       "0                1               2137                     0  \n",
       "1                1               3282                    17  \n",
       "2                1              10331                    27  \n",
       "3                1               7623                    11  \n",
       "4                2               4075                    14  "
      ]
     },
     "execution_count": 48,
     "metadata": {},
     "output_type": "execute_result"
    }
   ],
   "source": [
    "dws_stock_sentiment_analyse_1d = dws_stock_sentiment_analyse_1d.groupby(['update_time', 'stock_code', 'sentiment', 'source', 'data_type']).agg(\n",
    "    sentiment_count=('sentiment', 'count'),  # Count of 'sentiment' occurrences\n",
    "    total_read_counts=('read_counts', 'sum'),  # Sum of 'read_counts'\n",
    "    total_comment_counts=('comment_counts', 'sum')  # Sum of 'comment_counts'\n",
    ").reset_index()\n",
    "\n",
    "dws_stock_sentiment_analyse_1d.head()"
   ]
  },
  {
   "cell_type": "code",
   "execution_count": 49,
   "id": "5fafa052",
   "metadata": {},
   "outputs": [],
   "source": [
    "dws_stock_sentiment_analyse_1d.to_csv('/Users/yuechun/Desktop/QF5214 Data Engineering for Quantitative Finance/DWS/dws_stock_sentiment_analyse_1d.csv')"
   ]
  },
  {
   "cell_type": "code",
   "execution_count": null,
   "id": "1c44dfdd",
   "metadata": {},
   "outputs": [],
   "source": [
    "# Insert the DataFrame directly into the MySQL table\n",
    "dws_stock_sentiment_analyse_1d.to_sql(name=dws_stock_sentiment_analyse_1d, con=engine, if_exists='append', index=False)\n",
    "\n",
    "print(\"CSV data has been successfully imported into the MySQL database\")\n",
    "\n",
    "# Close the engine connection\n",
    "engine.dispose()"
   ]
  }
 ],
 "metadata": {
  "kernelspec": {
   "display_name": "Python 3 (ipykernel)",
   "language": "python",
   "name": "python3"
  },
  "language_info": {
   "codemirror_mode": {
    "name": "ipython",
    "version": 3
   },
   "file_extension": ".py",
   "mimetype": "text/x-python",
   "name": "python",
   "nbconvert_exporter": "python",
   "pygments_lexer": "ipython3",
   "version": "3.11.8"
  }
 },
 "nbformat": 4,
 "nbformat_minor": 5
}
